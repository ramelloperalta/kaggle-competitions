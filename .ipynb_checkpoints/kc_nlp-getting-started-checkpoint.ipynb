{
 "cells": [
  {
   "cell_type": "markdown",
   "metadata": {},
   "source": [
    "## Kaggle competition nlp-getting-started: Classifying disasters\n",
    " - kaggle nlp-getting-started data\n",
    " - collection of tweets"
   ]
  },
  {
   "cell_type": "code",
   "execution_count": 1,
   "metadata": {},
   "outputs": [],
   "source": [
    "import os\n",
    "os.chdir('nlp-getting-started')"
   ]
  },
  {
   "cell_type": "code",
   "execution_count": 3,
   "metadata": {},
   "outputs": [],
   "source": [
    "from zipfile import ZipFile\n",
    "file_name = \"nlp-getting-started.zip\"\n",
    "\n",
    "if not os.path.exists('train.csv'):\n",
    "    with ZipFile(file_name, 'r') as z:\n",
    "        z.printdir()\n",
    "        z.extractall()"
   ]
  },
  {
   "cell_type": "code",
   "execution_count": 5,
   "metadata": {},
   "outputs": [],
   "source": [
    "import numpy as np\n",
    "import pandas as pd\n",
    "\n",
    "nlp_df = pd.read_csv('train.csv')"
   ]
  },
  {
   "cell_type": "markdown",
   "metadata": {},
   "source": [
    "## Data Dictionary\n",
    "- **id** - a unique identifier for each tweet\n",
    "- **text** - the text of the tweet\n",
    "- **location** - the location the tweet was sent from (may be blank)\n",
    "- **keyword** - a particular keyword from the tweet (may be blank)\n",
    "- **target** - in train.csv only, this denotes whether a tweet is about a real disaster (1) or not (0)"
   ]
  },
  {
   "cell_type": "markdown",
   "metadata": {},
   "source": [
    "## EDA"
   ]
  },
  {
   "cell_type": "code",
   "execution_count": 6,
   "metadata": {},
   "outputs": [
    {
     "data": {
      "text/html": [
       "<div>\n",
       "<style scoped>\n",
       "    .dataframe tbody tr th:only-of-type {\n",
       "        vertical-align: middle;\n",
       "    }\n",
       "\n",
       "    .dataframe tbody tr th {\n",
       "        vertical-align: top;\n",
       "    }\n",
       "\n",
       "    .dataframe thead th {\n",
       "        text-align: right;\n",
       "    }\n",
       "</style>\n",
       "<table border=\"1\" class=\"dataframe\">\n",
       "  <thead>\n",
       "    <tr style=\"text-align: right;\">\n",
       "      <th></th>\n",
       "      <th>id</th>\n",
       "      <th>keyword</th>\n",
       "      <th>location</th>\n",
       "      <th>text</th>\n",
       "      <th>target</th>\n",
       "    </tr>\n",
       "  </thead>\n",
       "  <tbody>\n",
       "    <tr>\n",
       "      <th>0</th>\n",
       "      <td>1</td>\n",
       "      <td>NaN</td>\n",
       "      <td>NaN</td>\n",
       "      <td>Our Deeds are the Reason of this #earthquake M...</td>\n",
       "      <td>1</td>\n",
       "    </tr>\n",
       "    <tr>\n",
       "      <th>1</th>\n",
       "      <td>4</td>\n",
       "      <td>NaN</td>\n",
       "      <td>NaN</td>\n",
       "      <td>Forest fire near La Ronge Sask. Canada</td>\n",
       "      <td>1</td>\n",
       "    </tr>\n",
       "    <tr>\n",
       "      <th>2</th>\n",
       "      <td>5</td>\n",
       "      <td>NaN</td>\n",
       "      <td>NaN</td>\n",
       "      <td>All residents asked to 'shelter in place' are ...</td>\n",
       "      <td>1</td>\n",
       "    </tr>\n",
       "    <tr>\n",
       "      <th>3</th>\n",
       "      <td>6</td>\n",
       "      <td>NaN</td>\n",
       "      <td>NaN</td>\n",
       "      <td>13,000 people receive #wildfires evacuation or...</td>\n",
       "      <td>1</td>\n",
       "    </tr>\n",
       "    <tr>\n",
       "      <th>4</th>\n",
       "      <td>7</td>\n",
       "      <td>NaN</td>\n",
       "      <td>NaN</td>\n",
       "      <td>Just got sent this photo from Ruby #Alaska as ...</td>\n",
       "      <td>1</td>\n",
       "    </tr>\n",
       "  </tbody>\n",
       "</table>\n",
       "</div>"
      ],
      "text/plain": [
       "   id keyword location                                               text  \\\n",
       "0   1     NaN      NaN  Our Deeds are the Reason of this #earthquake M...   \n",
       "1   4     NaN      NaN             Forest fire near La Ronge Sask. Canada   \n",
       "2   5     NaN      NaN  All residents asked to 'shelter in place' are ...   \n",
       "3   6     NaN      NaN  13,000 people receive #wildfires evacuation or...   \n",
       "4   7     NaN      NaN  Just got sent this photo from Ruby #Alaska as ...   \n",
       "\n",
       "   target  \n",
       "0       1  \n",
       "1       1  \n",
       "2       1  \n",
       "3       1  \n",
       "4       1  "
      ]
     },
     "execution_count": 6,
     "metadata": {},
     "output_type": "execute_result"
    }
   ],
   "source": [
    "nlp_df.head()"
   ]
  },
  {
   "cell_type": "code",
   "execution_count": 7,
   "metadata": {},
   "outputs": [
    {
     "name": "stdout",
     "output_type": "stream",
     "text": [
      "<class 'pandas.core.frame.DataFrame'>\n",
      "RangeIndex: 7613 entries, 0 to 7612\n",
      "Data columns (total 5 columns):\n",
      " #   Column    Non-Null Count  Dtype \n",
      "---  ------    --------------  ----- \n",
      " 0   id        7613 non-null   int64 \n",
      " 1   keyword   7552 non-null   object\n",
      " 2   location  5080 non-null   object\n",
      " 3   text      7613 non-null   object\n",
      " 4   target    7613 non-null   int64 \n",
      "dtypes: int64(2), object(3)\n",
      "memory usage: 297.5+ KB\n"
     ]
    }
   ],
   "source": [
    "nlp_df.info()"
   ]
  },
  {
   "cell_type": "code",
   "execution_count": 10,
   "metadata": {},
   "outputs": [
    {
     "data": {
      "image/png": "[encoded data removed]",
      "text/plain": [
       "<Figure size 432x288 with 1 Axes>"
      ]
     },
     "metadata": {
      "needs_background": "light"
     },
     "output_type": "display_data"
    }
   ],
   "source": [
    "nlp_df.target.value_counts().plot(kind='bar');"
   ]
  },
  {
   "cell_type": "code",
   "execution_count": 9,
   "metadata": {},
   "outputs": [
    {
     "data": {
      "text/html": [
       "<div>\n",
       "<style scoped>\n",
       "    .dataframe tbody tr th:only-of-type {\n",
       "        vertical-align: middle;\n",
       "    }\n",
       "\n",
       "    .dataframe tbody tr th {\n",
       "        vertical-align: top;\n",
       "    }\n",
       "\n",
       "    .dataframe thead th {\n",
       "        text-align: right;\n",
       "    }\n",
       "</style>\n",
       "<table border=\"1\" class=\"dataframe\">\n",
       "  <thead>\n",
       "    <tr style=\"text-align: right;\">\n",
       "      <th></th>\n",
       "      <th>id</th>\n",
       "      <th>keyword</th>\n",
       "      <th>location</th>\n",
       "      <th>text</th>\n",
       "      <th>target</th>\n",
       "    </tr>\n",
       "  </thead>\n",
       "  <tbody>\n",
       "    <tr>\n",
       "      <th>15</th>\n",
       "      <td>23</td>\n",
       "      <td>NaN</td>\n",
       "      <td>NaN</td>\n",
       "      <td>What's up man?</td>\n",
       "      <td>0</td>\n",
       "    </tr>\n",
       "    <tr>\n",
       "      <th>16</th>\n",
       "      <td>24</td>\n",
       "      <td>NaN</td>\n",
       "      <td>NaN</td>\n",
       "      <td>I love fruits</td>\n",
       "      <td>0</td>\n",
       "    </tr>\n",
       "    <tr>\n",
       "      <th>17</th>\n",
       "      <td>25</td>\n",
       "      <td>NaN</td>\n",
       "      <td>NaN</td>\n",
       "      <td>Summer is lovely</td>\n",
       "      <td>0</td>\n",
       "    </tr>\n",
       "    <tr>\n",
       "      <th>18</th>\n",
       "      <td>26</td>\n",
       "      <td>NaN</td>\n",
       "      <td>NaN</td>\n",
       "      <td>My car is so fast</td>\n",
       "      <td>0</td>\n",
       "    </tr>\n",
       "    <tr>\n",
       "      <th>19</th>\n",
       "      <td>28</td>\n",
       "      <td>NaN</td>\n",
       "      <td>NaN</td>\n",
       "      <td>What a goooooooaaaaaal!!!!!!</td>\n",
       "      <td>0</td>\n",
       "    </tr>\n",
       "    <tr>\n",
       "      <th>20</th>\n",
       "      <td>31</td>\n",
       "      <td>NaN</td>\n",
       "      <td>NaN</td>\n",
       "      <td>this is ridiculous....</td>\n",
       "      <td>0</td>\n",
       "    </tr>\n",
       "    <tr>\n",
       "      <th>21</th>\n",
       "      <td>32</td>\n",
       "      <td>NaN</td>\n",
       "      <td>NaN</td>\n",
       "      <td>London is cool ;)</td>\n",
       "      <td>0</td>\n",
       "    </tr>\n",
       "    <tr>\n",
       "      <th>22</th>\n",
       "      <td>33</td>\n",
       "      <td>NaN</td>\n",
       "      <td>NaN</td>\n",
       "      <td>Love skiing</td>\n",
       "      <td>0</td>\n",
       "    </tr>\n",
       "    <tr>\n",
       "      <th>23</th>\n",
       "      <td>34</td>\n",
       "      <td>NaN</td>\n",
       "      <td>NaN</td>\n",
       "      <td>What a wonderful day!</td>\n",
       "      <td>0</td>\n",
       "    </tr>\n",
       "    <tr>\n",
       "      <th>24</th>\n",
       "      <td>36</td>\n",
       "      <td>NaN</td>\n",
       "      <td>NaN</td>\n",
       "      <td>LOOOOOOL</td>\n",
       "      <td>0</td>\n",
       "    </tr>\n",
       "  </tbody>\n",
       "</table>\n",
       "</div>"
      ],
      "text/plain": [
       "    id keyword location                          text  target\n",
       "15  23     NaN      NaN                What's up man?       0\n",
       "16  24     NaN      NaN                 I love fruits       0\n",
       "17  25     NaN      NaN              Summer is lovely       0\n",
       "18  26     NaN      NaN             My car is so fast       0\n",
       "19  28     NaN      NaN  What a goooooooaaaaaal!!!!!!       0\n",
       "20  31     NaN      NaN        this is ridiculous....       0\n",
       "21  32     NaN      NaN             London is cool ;)       0\n",
       "22  33     NaN      NaN                   Love skiing       0\n",
       "23  34     NaN      NaN         What a wonderful day!       0\n",
       "24  36     NaN      NaN                      LOOOOOOL       0"
      ]
     },
     "execution_count": 9,
     "metadata": {},
     "output_type": "execute_result"
    }
   ],
   "source": [
    "nlp_df[nlp_df.target==0].head(10)"
   ]
  },
  {
   "cell_type": "markdown",
   "metadata": {},
   "source": [
    "## Text column\n",
    "- some things to take into account:\n",
    "    - text length\n",
    "    - duplicate tweets due to retweets etc\n",
    "        - may affect frequencies for algorithm\n",
    "    - twitter links\n",
    "    - hashtags indicating sentiment\n",
    "    "
   ]
  },
  {
   "cell_type": "code",
   "execution_count": 11,
   "metadata": {},
   "outputs": [
    {
     "data": {
      "text/plain": [
       "7613"
      ]
     },
     "execution_count": 11,
     "metadata": {},
     "output_type": "execute_result"
    }
   ],
   "source": [
    "nlp_df.shape[0]"
   ]
  },
  {
   "cell_type": "code",
   "execution_count": 12,
   "metadata": {},
   "outputs": [
    {
     "data": {
      "text/plain": [
       "7503"
      ]
     },
     "execution_count": 12,
     "metadata": {},
     "output_type": "execute_result"
    }
   ],
   "source": [
    "#remove duplicates\n",
    "nlp_df.drop_duplicates(subset='text', keep = 'first', inplace = True)\n",
    "nlp_df.shape[0]"
   ]
  },
  {
   "cell_type": "markdown",
   "metadata": {},
   "source": [
    "- not all duplicate tweets were removed\n",
    "- http links can make the text unique even though the content is identical as seen below"
   ]
  },
  {
   "cell_type": "code",
   "execution_count": 13,
   "metadata": {},
   "outputs": [
    {
     "data": {
      "text/plain": [
       "[\"Wreckage 'Conclusively Confirmed' as From MH370: Malaysia PM: Investigators and the families of those who were... http://t.co/SfAKQNveta\",\n",
       " \"Wreckage 'Conclusively Confirmed' as From MH370: Malaysia PM: Investigators and the families of those who were... http://t.co/v5Ogr3F5N9\",\n",
       " \"Wreckage 'Conclusively Confirmed' as From MH370: Malaysia PM: Investigators and the families of those who were... http://t.co/4sf0rgn8Wo\",\n",
       " \"Wreckage 'Conclusively Confirmed' as From MH370: Malaysia PM: Investigators and the families of those who were... http://t.co/leDmVEZCoL\",\n",
       " \"Wreckage 'Conclusively Confirmed' as From MH370: Malaysia PM: Investigators and the families of those who were... http://t.co/DtFSWNJZIL\",\n",
       " \"Wreckage 'Conclusively Confirmed' as From MH370: Malaysia PM: Investigators and the families of those who were... http://t.co/2Jr3Yo55dr\",\n",
       " \"Wreckage 'Conclusively Confirmed' as From MH370: Malaysia PM: Investigators and the families of those who were... http://t.co/KuKmAL605a\",\n",
       " \"Wreckage 'Conclusively Confirmed' as From MH370: Malaysia PM: Investigators and the families of those who were... http://t.co/nn6Y0fD3l0\",\n",
       " \"Wreckage 'Conclusively Confirmed' as From MH370: Malaysia PM: Investigators and the families of those who were... http://t.co/5EBpYbFH4D\"]"
      ]
     },
     "execution_count": 13,
     "metadata": {},
     "output_type": "execute_result"
    }
   ],
   "source": [
    "#duplicate\n",
    "test = nlp_df[nlp_df.location=='Mumbai'].text.tolist()[-9:]\n",
    "test"
   ]
  },
  {
   "cell_type": "code",
   "execution_count": 14,
   "metadata": {},
   "outputs": [
    {
     "data": {
      "text/html": [
       "<div>\n",
       "<style scoped>\n",
       "    .dataframe tbody tr th:only-of-type {\n",
       "        vertical-align: middle;\n",
       "    }\n",
       "\n",
       "    .dataframe tbody tr th {\n",
       "        vertical-align: top;\n",
       "    }\n",
       "\n",
       "    .dataframe thead th {\n",
       "        text-align: right;\n",
       "    }\n",
       "</style>\n",
       "<table border=\"1\" class=\"dataframe\">\n",
       "  <thead>\n",
       "    <tr style=\"text-align: right;\">\n",
       "      <th></th>\n",
       "      <th>id</th>\n",
       "      <th>keyword</th>\n",
       "      <th>location</th>\n",
       "      <th>text</th>\n",
       "      <th>target</th>\n",
       "    </tr>\n",
       "  </thead>\n",
       "  <tbody>\n",
       "    <tr>\n",
       "      <th>31</th>\n",
       "      <td>48</td>\n",
       "      <td>ablaze</td>\n",
       "      <td>Birmingham</td>\n",
       "      <td>@bbcmtd Wholesale Markets ablaze http://t.co/l...</td>\n",
       "      <td>1</td>\n",
       "    </tr>\n",
       "    <tr>\n",
       "      <th>32</th>\n",
       "      <td>49</td>\n",
       "      <td>ablaze</td>\n",
       "      <td>Est. September 2012 - Bristol</td>\n",
       "      <td>We always try to bring the heavy. #metal #RT h...</td>\n",
       "      <td>0</td>\n",
       "    </tr>\n",
       "    <tr>\n",
       "      <th>33</th>\n",
       "      <td>50</td>\n",
       "      <td>ablaze</td>\n",
       "      <td>AFRICA</td>\n",
       "      <td>#AFRICANBAZE: Breaking news:Nigeria flag set a...</td>\n",
       "      <td>1</td>\n",
       "    </tr>\n",
       "    <tr>\n",
       "      <th>35</th>\n",
       "      <td>53</td>\n",
       "      <td>ablaze</td>\n",
       "      <td>London, UK</td>\n",
       "      <td>On plus side LOOK AT THE SKY LAST NIGHT IT WAS...</td>\n",
       "      <td>0</td>\n",
       "    </tr>\n",
       "    <tr>\n",
       "      <th>37</th>\n",
       "      <td>55</td>\n",
       "      <td>ablaze</td>\n",
       "      <td>World Wide!!</td>\n",
       "      <td>INEC Office in Abia Set Ablaze - http://t.co/3...</td>\n",
       "      <td>1</td>\n",
       "    </tr>\n",
       "    <tr>\n",
       "      <th>...</th>\n",
       "      <td>...</td>\n",
       "      <td>...</td>\n",
       "      <td>...</td>\n",
       "      <td>...</td>\n",
       "      <td>...</td>\n",
       "    </tr>\n",
       "    <tr>\n",
       "      <th>7603</th>\n",
       "      <td>10862</td>\n",
       "      <td>NaN</td>\n",
       "      <td>NaN</td>\n",
       "      <td>Officials say a quarantine is in place at an A...</td>\n",
       "      <td>1</td>\n",
       "    </tr>\n",
       "    <tr>\n",
       "      <th>7604</th>\n",
       "      <td>10863</td>\n",
       "      <td>NaN</td>\n",
       "      <td>NaN</td>\n",
       "      <td>#WorldNews Fallen powerlines on G:link tram: U...</td>\n",
       "      <td>1</td>\n",
       "    </tr>\n",
       "    <tr>\n",
       "      <th>7606</th>\n",
       "      <td>10866</td>\n",
       "      <td>NaN</td>\n",
       "      <td>NaN</td>\n",
       "      <td>Suicide bomber kills 15 in Saudi security site...</td>\n",
       "      <td>1</td>\n",
       "    </tr>\n",
       "    <tr>\n",
       "      <th>7608</th>\n",
       "      <td>10869</td>\n",
       "      <td>NaN</td>\n",
       "      <td>NaN</td>\n",
       "      <td>Two giant cranes holding a bridge collapse int...</td>\n",
       "      <td>1</td>\n",
       "    </tr>\n",
       "    <tr>\n",
       "      <th>7612</th>\n",
       "      <td>10873</td>\n",
       "      <td>NaN</td>\n",
       "      <td>NaN</td>\n",
       "      <td>The Latest: More Homes Razed by Northern Calif...</td>\n",
       "      <td>1</td>\n",
       "    </tr>\n",
       "  </tbody>\n",
       "</table>\n",
       "<p>3577 rows × 5 columns</p>\n",
       "</div>"
      ],
      "text/plain": [
       "         id keyword                       location  \\\n",
       "31       48  ablaze                     Birmingham   \n",
       "32       49  ablaze  Est. September 2012 - Bristol   \n",
       "33       50  ablaze                         AFRICA   \n",
       "35       53  ablaze                     London, UK   \n",
       "37       55  ablaze                   World Wide!!   \n",
       "...     ...     ...                            ...   \n",
       "7603  10862     NaN                            NaN   \n",
       "7604  10863     NaN                            NaN   \n",
       "7606  10866     NaN                            NaN   \n",
       "7608  10869     NaN                            NaN   \n",
       "7612  10873     NaN                            NaN   \n",
       "\n",
       "                                                   text  target  \n",
       "31    @bbcmtd Wholesale Markets ablaze http://t.co/l...       1  \n",
       "32    We always try to bring the heavy. #metal #RT h...       0  \n",
       "33    #AFRICANBAZE: Breaking news:Nigeria flag set a...       1  \n",
       "35    On plus side LOOK AT THE SKY LAST NIGHT IT WAS...       0  \n",
       "37    INEC Office in Abia Set Ablaze - http://t.co/3...       1  \n",
       "...                                                 ...     ...  \n",
       "7603  Officials say a quarantine is in place at an A...       1  \n",
       "7604  #WorldNews Fallen powerlines on G:link tram: U...       1  \n",
       "7606  Suicide bomber kills 15 in Saudi security site...       1  \n",
       "7608  Two giant cranes holding a bridge collapse int...       1  \n",
       "7612  The Latest: More Homes Razed by Northern Calif...       1  \n",
       "\n",
       "[3577 rows x 5 columns]"
      ]
     },
     "execution_count": 14,
     "metadata": {},
     "output_type": "execute_result"
    }
   ],
   "source": [
    "#Tweets containing http links of the tweet\n",
    "nlp_df[nlp_df.text.str.contains('http://t.co/.*')==True]"
   ]
  },
  {
   "cell_type": "markdown",
   "metadata": {},
   "source": [
    "- half the entries contain http links\n",
    "- http links usually appear at the beginning or end of the tweet\n",
    "- follow same format 'http://t.co/~"
   ]
  },
  {
   "cell_type": "code",
   "execution_count": 15,
   "metadata": {},
   "outputs": [
    {
     "data": {
      "text/plain": [
       "['INFANTRY Mens Lume Dial Army Analog Quartz Wrist Watch Sport Blue Nylon Fabric  - Full rea\\x89Û_ http://t.co/hEP9k0XgHb http://t.co/80EBvglmrA',\n",
       " 'WWI WWII JAPANESE ARMY NAVY MILITARY JAPAN LEATHER WATCH WAR MIDO WW1 2 - Full read by eBay http://t.co/F9j3l2Yjl4 http://t.co/mwwWOWCayO',\n",
       " 'WWI WWII JAPANESE ARMY NAVY MILITARY JAPAN LEATHER WATCH WAR MIDO WW1 2 - Full read by eBay http://t.co/QUmcE7W2tY http://t.co/KTKG2sDhHl',\n",
       " 'Arsonist Sets NYC Vegetarian Restaurant on Fire: Police #NewYork - http://t.co/Nr7usT3uh8',\n",
       " 'STAR WARS POWER OF THE JEDI COLLECTION 1 BATTLE DROID HASBRO - Full read by eBay http://t.co/xFguklrlTf http://t.co/FeGu8hWMc4',\n",
       " 'STAR WARS POWER OF THE JEDI COLLECTION 1 BATTLE DROID HASBRO - Full read by eBay http://t.co/yI30ZgiZsW http://t.co/2jGVhw7YZs',\n",
       " \"#NowPlaying at #orchardalley in #LES of #nyc 'bioterror- manufactured fear and state repression' @abcnorio #gardens http://t.co/Ba2rRXUgsG\",\n",
       " 'Morgan Silver Dollar 1880 S Gem BU DMPL Cameo Rev Blazing MS+++++ High grade! - Full read \\x89Û_ http://t.co/m96KbQwiOr http://t.co/wrJR846fKS',\n",
       " 'Morgan Silver Dollar 1921 P CH Gem Bu PL Blazing MS++++++ Satin Rare Proof Like! - Full re\\x89Û_ http://t.co/99MbyFl3Id http://t.co/4ddMTguZzS',\n",
       " 'New Ladies Shoulder Tote Handbag Women Cross Body Bag Faux Leather Fashion Purse - Full re\\x89Û_ http://t.co/y87Gi3BRlV http://t.co/1zbhVDCXzS']"
      ]
     },
     "execution_count": 15,
     "metadata": {},
     "output_type": "execute_result"
    }
   ],
   "source": [
    "#before\n",
    "nlp_df[nlp_df.location=='New York'].text.tolist()[:10]"
   ]
  },
  {
   "cell_type": "code",
   "execution_count": 16,
   "metadata": {},
   "outputs": [],
   "source": [
    "#Regex substitution\n",
    "import re\n",
    "nlp_df2 = nlp_df.copy()\n",
    "nlp_df.text = [re.sub(r'http\\S+', '', x) for x in nlp_df.text]"
   ]
  },
  {
   "cell_type": "code",
   "execution_count": 17,
   "metadata": {},
   "outputs": [
    {
     "data": {
      "text/plain": [
       "['INFANTRY Mens Lume Dial Army Analog Quartz Wrist Watch Sport Blue Nylon Fabric  - Full rea\\x89Û_  ',\n",
       " 'WWI WWII JAPANESE ARMY NAVY MILITARY JAPAN LEATHER WATCH WAR MIDO WW1 2 - Full read by eBay  ',\n",
       " 'WWI WWII JAPANESE ARMY NAVY MILITARY JAPAN LEATHER WATCH WAR MIDO WW1 2 - Full read by eBay  ',\n",
       " 'Arsonist Sets NYC Vegetarian Restaurant on Fire: Police #NewYork - ',\n",
       " 'STAR WARS POWER OF THE JEDI COLLECTION 1 BATTLE DROID HASBRO - Full read by eBay  ',\n",
       " 'STAR WARS POWER OF THE JEDI COLLECTION 1 BATTLE DROID HASBRO - Full read by eBay  ',\n",
       " \"#NowPlaying at #orchardalley in #LES of #nyc 'bioterror- manufactured fear and state repression' @abcnorio #gardens \",\n",
       " 'Morgan Silver Dollar 1880 S Gem BU DMPL Cameo Rev Blazing MS+++++ High grade! - Full read \\x89Û_  ',\n",
       " 'Morgan Silver Dollar 1921 P CH Gem Bu PL Blazing MS++++++ Satin Rare Proof Like! - Full re\\x89Û_  ',\n",
       " 'New Ladies Shoulder Tote Handbag Women Cross Body Bag Faux Leather Fashion Purse - Full re\\x89Û_  ']"
      ]
     },
     "execution_count": 17,
     "metadata": {},
     "output_type": "execute_result"
    }
   ],
   "source": [
    "#after\n",
    "nlp_df[nlp_df.location=='New York'].text.tolist()[:10]"
   ]
  },
  {
   "cell_type": "code",
   "execution_count": 21,
   "metadata": {},
   "outputs": [
    {
     "data": {
      "text/plain": [
       "['DTN Brazil: Experts in France begin examining airplane debris found on Reunion Island: French air accident exp... ',\n",
       " \"\\x89ÛÏ@LeoBlakeCarter: This dog thinks he's an ambulance ?????? \",\n",
       " \"@ENews Ben Affleck......I know there's a wife/kids and other girls but I can't help it. I've loved him since Armageddon #eonlinechat\",\n",
       " \"What a feat! Watch the #BTS of @kallemattson's incredible music video for #Avalanche:  ????\",\n",
       " 'Blizzard of Auz @ 9 pm CST @RadioRiffRocks /     2 hrs of Rock to make your hump day complete! ',\n",
       " '@CranBoonitz So going to make any bomb threats? @HereticOfEthics',\n",
       " 'Sure - take them away from fire fighting for King Stevie &amp; Crusty to have a photo-op ! ',\n",
       " \"We're #hiring in our Toronto branch! Surety Underwriter/Senior Underwriter and Casualty Product Leader. Apply today. \",\n",
       " \"@Flunkie if it makes you feel any better I'm level 32 and still get demolished.\",\n",
       " 'Real people. True stories. Real pain &amp; suffering. #displaced #RefugeesMatter #Syria  ']"
      ]
     },
     "execution_count": 21,
     "metadata": {},
     "output_type": "execute_result"
    }
   ],
   "source": [
    "#After\n",
    "nlp_df[nlp_df.location=='Canada'].text.tolist()[:10]"
   ]
  },
  {
   "cell_type": "markdown",
   "metadata": {},
   "source": [
    "Now, duplicates can be removed"
   ]
  },
  {
   "cell_type": "code",
   "execution_count": 18,
   "metadata": {},
   "outputs": [
    {
     "data": {
      "text/plain": [
       "7503"
      ]
     },
     "execution_count": 18,
     "metadata": {},
     "output_type": "execute_result"
    }
   ],
   "source": [
    "nlp_df.shape[0]"
   ]
  },
  {
   "cell_type": "code",
   "execution_count": 19,
   "metadata": {},
   "outputs": [
    {
     "data": {
      "text/plain": [
       "6989"
      ]
     },
     "execution_count": 19,
     "metadata": {},
     "output_type": "execute_result"
    }
   ],
   "source": [
    "nlp_df.drop_duplicates(subset='text', keep = 'first', inplace = True)\n",
    "nlp_df.shape[0]"
   ]
  },
  {
   "cell_type": "code",
   "execution_count": 20,
   "metadata": {},
   "outputs": [
    {
     "data": {
      "text/plain": [
       "['If I get run over by an ambulance am I lucky? #justsaying #randomthought',\n",
       " 'India shud not give any evidence 2 pak.They will share with terrorists &amp; use for next attack.Share with oth contries ',\n",
       " '@ameenshaikh3 by ur. logic if bridge didnt collapse then second train engine should cross bridge then  @sanjaynirupam @sureshprabhu',\n",
       " '@ameenshaikh3 sir i just only wanted to make a point about @sureshpprabhu you made and said he is lying about bridge collapse.',\n",
       " 'ThisIsFaz: Anti Collision Rear- #technology #cool  Via Techesback #Tech',\n",
       " 'MP trains derailment: \\x89Û÷It\\x89Ûªs the freakiest of freak accidents\\x89Ûª: \\n\\nMP trains derailment: \\x89Û÷It\\x89Ûªs the freakiest of ... ',\n",
       " \"Latest : Trains derailment: 'It's the freakiest of freak accidents' - The Indian Express: The Indi...  #IndianNews\",\n",
       " 'Mumbai24x7 Helping Hand: In Mumbai 2 TTEs take charge of helpline to calm anxious relatives - The Ind...  #Mumbai',\n",
       " 'Udhampur terror attack: Militants attack police post 2 SPOs injured: Suspected militants tonight attacked a p... ',\n",
       " \"Wreckage 'Conclusively Confirmed' as From MH370: Malaysia PM: Investigators and the families of those who were... \"]"
      ]
     },
     "execution_count": 20,
     "metadata": {},
     "output_type": "execute_result"
    }
   ],
   "source": [
    "#after removing duplicates\n",
    "nlp_df[nlp_df.location=='Mumbai'].text.tolist()"
   ]
  },
  {
   "cell_type": "markdown",
   "metadata": {},
   "source": [
    "## Text tweet lengths\n",
    "- feature generation"
   ]
  },
  {
   "cell_type": "code",
   "execution_count": 22,
   "metadata": {},
   "outputs": [],
   "source": [
    "nlp_df['text_length'] = nlp_df.text.str.len()"
   ]
  },
  {
   "cell_type": "code",
   "execution_count": 23,
   "metadata": {},
   "outputs": [],
   "source": [
    "nlp_df = nlp_df[['id','keyword','location','text','text_length','target']]"
   ]
  },
  {
   "cell_type": "code",
   "execution_count": 24,
   "metadata": {},
   "outputs": [
    {
     "data": {
      "text/html": [
       "<div>\n",
       "<style scoped>\n",
       "    .dataframe tbody tr th:only-of-type {\n",
       "        vertical-align: middle;\n",
       "    }\n",
       "\n",
       "    .dataframe tbody tr th {\n",
       "        vertical-align: top;\n",
       "    }\n",
       "\n",
       "    .dataframe thead th {\n",
       "        text-align: right;\n",
       "    }\n",
       "</style>\n",
       "<table border=\"1\" class=\"dataframe\">\n",
       "  <thead>\n",
       "    <tr style=\"text-align: right;\">\n",
       "      <th></th>\n",
       "      <th>id</th>\n",
       "      <th>keyword</th>\n",
       "      <th>location</th>\n",
       "      <th>text</th>\n",
       "      <th>text_length</th>\n",
       "      <th>target</th>\n",
       "    </tr>\n",
       "  </thead>\n",
       "  <tbody>\n",
       "    <tr>\n",
       "      <th>0</th>\n",
       "      <td>1</td>\n",
       "      <td>NaN</td>\n",
       "      <td>NaN</td>\n",
       "      <td>Our Deeds are the Reason of this #earthquake M...</td>\n",
       "      <td>69</td>\n",
       "      <td>1</td>\n",
       "    </tr>\n",
       "    <tr>\n",
       "      <th>1</th>\n",
       "      <td>4</td>\n",
       "      <td>NaN</td>\n",
       "      <td>NaN</td>\n",
       "      <td>Forest fire near La Ronge Sask. Canada</td>\n",
       "      <td>38</td>\n",
       "      <td>1</td>\n",
       "    </tr>\n",
       "    <tr>\n",
       "      <th>2</th>\n",
       "      <td>5</td>\n",
       "      <td>NaN</td>\n",
       "      <td>NaN</td>\n",
       "      <td>All residents asked to 'shelter in place' are ...</td>\n",
       "      <td>133</td>\n",
       "      <td>1</td>\n",
       "    </tr>\n",
       "    <tr>\n",
       "      <th>3</th>\n",
       "      <td>6</td>\n",
       "      <td>NaN</td>\n",
       "      <td>NaN</td>\n",
       "      <td>13,000 people receive #wildfires evacuation or...</td>\n",
       "      <td>65</td>\n",
       "      <td>1</td>\n",
       "    </tr>\n",
       "    <tr>\n",
       "      <th>4</th>\n",
       "      <td>7</td>\n",
       "      <td>NaN</td>\n",
       "      <td>NaN</td>\n",
       "      <td>Just got sent this photo from Ruby #Alaska as ...</td>\n",
       "      <td>88</td>\n",
       "      <td>1</td>\n",
       "    </tr>\n",
       "    <tr>\n",
       "      <th>...</th>\n",
       "      <td>...</td>\n",
       "      <td>...</td>\n",
       "      <td>...</td>\n",
       "      <td>...</td>\n",
       "      <td>...</td>\n",
       "      <td>...</td>\n",
       "    </tr>\n",
       "    <tr>\n",
       "      <th>7602</th>\n",
       "      <td>10860</td>\n",
       "      <td>NaN</td>\n",
       "      <td>NaN</td>\n",
       "      <td>a siren just went off and it wasn't the Forney...</td>\n",
       "      <td>65</td>\n",
       "      <td>1</td>\n",
       "    </tr>\n",
       "    <tr>\n",
       "      <th>7603</th>\n",
       "      <td>10862</td>\n",
       "      <td>NaN</td>\n",
       "      <td>NaN</td>\n",
       "      <td>Officials say a quarantine is in place at an A...</td>\n",
       "      <td>114</td>\n",
       "      <td>1</td>\n",
       "    </tr>\n",
       "    <tr>\n",
       "      <th>7604</th>\n",
       "      <td>10863</td>\n",
       "      <td>NaN</td>\n",
       "      <td>NaN</td>\n",
       "      <td>#WorldNews Fallen powerlines on G:link tram: U...</td>\n",
       "      <td>114</td>\n",
       "      <td>1</td>\n",
       "    </tr>\n",
       "    <tr>\n",
       "      <th>7605</th>\n",
       "      <td>10864</td>\n",
       "      <td>NaN</td>\n",
       "      <td>NaN</td>\n",
       "      <td>on the flip side I'm at Walmart and there is a...</td>\n",
       "      <td>114</td>\n",
       "      <td>1</td>\n",
       "    </tr>\n",
       "    <tr>\n",
       "      <th>7606</th>\n",
       "      <td>10866</td>\n",
       "      <td>NaN</td>\n",
       "      <td>NaN</td>\n",
       "      <td>Suicide bomber kills 15 in Saudi security site...</td>\n",
       "      <td>99</td>\n",
       "      <td>1</td>\n",
       "    </tr>\n",
       "  </tbody>\n",
       "</table>\n",
       "<p>6989 rows × 6 columns</p>\n",
       "</div>"
      ],
      "text/plain": [
       "         id keyword location  \\\n",
       "0         1     NaN      NaN   \n",
       "1         4     NaN      NaN   \n",
       "2         5     NaN      NaN   \n",
       "3         6     NaN      NaN   \n",
       "4         7     NaN      NaN   \n",
       "...     ...     ...      ...   \n",
       "7602  10860     NaN      NaN   \n",
       "7603  10862     NaN      NaN   \n",
       "7604  10863     NaN      NaN   \n",
       "7605  10864     NaN      NaN   \n",
       "7606  10866     NaN      NaN   \n",
       "\n",
       "                                                   text  text_length  target  \n",
       "0     Our Deeds are the Reason of this #earthquake M...           69       1  \n",
       "1                Forest fire near La Ronge Sask. Canada           38       1  \n",
       "2     All residents asked to 'shelter in place' are ...          133       1  \n",
       "3     13,000 people receive #wildfires evacuation or...           65       1  \n",
       "4     Just got sent this photo from Ruby #Alaska as ...           88       1  \n",
       "...                                                 ...          ...     ...  \n",
       "7602  a siren just went off and it wasn't the Forney...           65       1  \n",
       "7603  Officials say a quarantine is in place at an A...          114       1  \n",
       "7604  #WorldNews Fallen powerlines on G:link tram: U...          114       1  \n",
       "7605  on the flip side I'm at Walmart and there is a...          114       1  \n",
       "7606  Suicide bomber kills 15 in Saudi security site...           99       1  \n",
       "\n",
       "[6989 rows x 6 columns]"
      ]
     },
     "execution_count": 24,
     "metadata": {},
     "output_type": "execute_result"
    }
   ],
   "source": [
    "nlp_df"
   ]
  },
  {
   "cell_type": "code",
   "execution_count": 25,
   "metadata": {},
   "outputs": [
    {
     "data": {
      "text/plain": [
       "(2867, 4122)"
      ]
     },
     "execution_count": 25,
     "metadata": {},
     "output_type": "execute_result"
    }
   ],
   "source": [
    "pos_df = nlp_df[nlp_df.target==1]\n",
    "neg_df = nlp_df[nlp_df.target==0]\n",
    "pos_df.shape[0], neg_df.shape[0]"
   ]
  },
  {
   "cell_type": "code",
   "execution_count": 26,
   "metadata": {},
   "outputs": [
    {
     "data": {
      "image/png": "[encoded data removed]",
      "text/plain": [
       "<Figure size 648x504 with 1 Axes>"
      ]
     },
     "metadata": {},
     "output_type": "display_data"
    }
   ],
   "source": [
    "import matplotlib.pyplot as plt\n",
    "import seaborn as sns\n",
    "sns.set_style('darkgrid')\n",
    "plt.rcParams['figure.figsize'] = (9,7)\n",
    "\n",
    "neg_df.text_length.hist();\n",
    "pos_df.text_length.hist();\n",
    "plt.legend([\n",
    "    'negative',\n",
    "    'positive'\n",
    "])\n",
    "plt.title('Length of tweet distributions');"
   ]
  },
  {
   "cell_type": "code",
   "execution_count": 27,
   "metadata": {},
   "outputs": [
    {
     "name": "stdout",
     "output_type": "stream",
     "text": [
      "Positive:\n",
      " count    2867.000000\n",
      "mean       91.146146\n",
      "std        30.387012\n",
      "min         9.000000\n",
      "25%        67.000000\n",
      "50%        93.000000\n",
      "75%       115.000000\n",
      "max       151.000000\n",
      "Name: text_length, dtype: float64 \n",
      "\n",
      "Negative:\n",
      " count    4122.000000\n",
      "mean       84.276565\n",
      "std        34.721189\n",
      "min         6.000000\n",
      "25%        57.000000\n",
      "50%        85.000000\n",
      "75%       114.000000\n",
      "max       157.000000\n",
      "Name: text_length, dtype: float64\n"
     ]
    }
   ],
   "source": [
    "print('Positive:\\n', pos_df.text_length.describe(),'\\n\\nNegative:\\n', neg_df.text_length.describe())"
   ]
  },
  {
   "cell_type": "markdown",
   "metadata": {},
   "source": [
    "- we can't tell if length has effect from this data yet"
   ]
  },
  {
   "cell_type": "markdown",
   "metadata": {},
   "source": [
    "### Keywords "
   ]
  },
  {
   "cell_type": "code",
   "execution_count": 28,
   "metadata": {},
   "outputs": [
    {
     "data": {
      "text/plain": [
       "array([nan, 'ablaze', 'accident', 'aftershock', 'airplane%20accident',\n",
       "       'ambulance', 'annihilated', 'annihilation', 'apocalypse',\n",
       "       'armageddon', 'army', 'arson', 'arsonist', 'attack', 'attacked',\n",
       "       'avalanche', 'battle', 'bioterror', 'bioterrorism', 'blaze',\n",
       "       'blazing', 'bleeding', 'blew%20up', 'blight', 'blizzard', 'blood',\n",
       "       'bloody', 'blown%20up', 'body%20bag', 'body%20bagging',\n",
       "       'body%20bags', 'bomb', 'bombed', 'bombing', 'bridge%20collapse',\n",
       "       'buildings%20burning', 'buildings%20on%20fire', 'burned',\n",
       "       'burning', 'burning%20buildings', 'bush%20fires', 'casualties',\n",
       "       'casualty', 'catastrophe', 'catastrophic', 'chemical%20emergency',\n",
       "       'cliff%20fall', 'collapse', 'collapsed', 'collide', 'collided',\n",
       "       'collision', 'crash', 'crashed', 'crush', 'crushed', 'curfew',\n",
       "       'cyclone', 'damage', 'danger', 'dead', 'death', 'deaths', 'debris',\n",
       "       'deluge', 'deluged', 'demolish', 'demolished', 'demolition',\n",
       "       'derail', 'derailed', 'derailment', 'desolate', 'desolation',\n",
       "       'destroy', 'destroyed', 'destruction', 'detonate', 'detonation',\n",
       "       'devastated', 'devastation', 'disaster', 'displaced', 'drought',\n",
       "       'drown', 'drowned', 'drowning', 'dust%20storm', 'earthquake',\n",
       "       'electrocute', 'electrocuted', 'emergency', 'emergency%20plan',\n",
       "       'emergency%20services', 'engulfed', 'epicentre', 'evacuate',\n",
       "       'evacuated', 'evacuation', 'explode', 'exploded', 'explosion',\n",
       "       'eyewitness', 'famine', 'fatal', 'fatalities', 'fatality', 'fear',\n",
       "       'fire', 'fire%20truck', 'first%20responders', 'flames',\n",
       "       'flattened', 'flood', 'flooding', 'floods', 'forest%20fire',\n",
       "       'forest%20fires', 'hail', 'hailstorm', 'harm', 'hazard',\n",
       "       'hazardous', 'heat%20wave', 'hellfire', 'hijack', 'hijacker',\n",
       "       'hijacking', 'hostage', 'hostages', 'hurricane', 'injured',\n",
       "       'injuries', 'injury', 'inundated', 'inundation', 'landslide',\n",
       "       'lava', 'lightning', 'loud%20bang', 'mass%20murder',\n",
       "       'mass%20murderer', 'massacre', 'mayhem', 'meltdown', 'military',\n",
       "       'mudslide', 'natural%20disaster', 'nuclear%20disaster',\n",
       "       'nuclear%20reactor', 'obliterate', 'obliterated', 'obliteration',\n",
       "       'oil%20spill', 'outbreak', 'pandemonium', 'panic', 'panicking',\n",
       "       'police', 'quarantine', 'quarantined', 'radiation%20emergency',\n",
       "       'rainstorm', 'razed', 'refugees', 'rescue', 'rescued', 'rescuers',\n",
       "       'riot', 'rioting', 'rubble', 'ruin', 'sandstorm', 'screamed',\n",
       "       'screaming', 'screams', 'seismic', 'sinkhole', 'sinking', 'siren',\n",
       "       'sirens', 'smoke', 'snowstorm', 'storm', 'stretcher',\n",
       "       'structural%20failure', 'suicide%20bomb', 'suicide%20bomber',\n",
       "       'suicide%20bombing', 'sunk', 'survive', 'survived', 'survivors',\n",
       "       'terrorism', 'terrorist', 'threat', 'thunder', 'thunderstorm',\n",
       "       'tornado', 'tragedy', 'trapped', 'trauma', 'traumatised',\n",
       "       'trouble', 'tsunami', 'twister', 'typhoon', 'upheaval',\n",
       "       'violent%20storm', 'volcano', 'war%20zone', 'weapon', 'weapons',\n",
       "       'whirlwind', 'wild%20fires', 'wildfire', 'windstorm', 'wounded',\n",
       "       'wounds', 'wreck', 'wreckage', 'wrecked'], dtype=object)"
      ]
     },
     "execution_count": 28,
     "metadata": {},
     "output_type": "execute_result"
    }
   ],
   "source": [
    "nlp_df.keyword.unique()"
   ]
  },
  {
   "cell_type": "code",
   "execution_count": 29,
   "metadata": {},
   "outputs": [
    {
     "data": {
      "image/png": "[encoded data removed]",
      "text/plain": [
       "<Figure size 648x504 with 1 Axes>"
      ]
     },
     "metadata": {},
     "output_type": "display_data"
    }
   ],
   "source": [
    "def create_barh(df, case, title=None, x=0, y=20, color='#1f77b4'):\n",
    "    df[case].value_counts()[x:y].plot(kind='barh', title=title, fontsize=12, color=color).invert_yaxis()\n",
    "\n",
    "create_barh(pos_df, 'keyword', title='Top 20 words in positive class')"
   ]
  },
  {
   "cell_type": "code",
   "execution_count": 30,
   "metadata": {},
   "outputs": [
    {
     "data": {
      "image/png": "[encoded data removed]",
      "text/plain": [
       "<Figure size 648x504 with 1 Axes>"
      ]
     },
     "metadata": {},
     "output_type": "display_data"
    }
   ],
   "source": [
    "#negative target\n",
    "create_barh(neg_df, 'keyword', title='Top 20 words in negative class')"
   ]
  },
  {
   "cell_type": "code",
   "execution_count": 31,
   "metadata": {},
   "outputs": [
    {
     "data": {
      "image/png": "[encoded data removed]",
      "text/plain": [
       "<Figure size 648x504 with 1 Axes>"
      ]
     },
     "metadata": {},
     "output_type": "display_data"
    }
   ],
   "source": [
    "create_barh(neg_df, 'keyword', x=-20, y=None, color='r', title='Bottom 20 words in negative class')"
   ]
  },
  {
   "cell_type": "code",
   "execution_count": 32,
   "metadata": {},
   "outputs": [
    {
     "data": {
      "image/png": "[encoded data removed]",
      "text/plain": [
       "<Figure size 648x504 with 1 Axes>"
      ]
     },
     "metadata": {},
     "output_type": "display_data"
    }
   ],
   "source": [
    "create_barh(pos_df, 'keyword', x=-20, y=None, color='r', title='Bottom 20 words in positive class')"
   ]
  },
  {
   "cell_type": "code",
   "execution_count": 33,
   "metadata": {
    "scrolled": true
   },
   "outputs": [],
   "source": [
    "shared_keywords = [x for x in neg_df.keyword.unique() if x in pos_df.keyword.unique()]"
   ]
  },
  {
   "cell_type": "code",
   "execution_count": 34,
   "metadata": {},
   "outputs": [
    {
     "data": {
      "text/plain": [
       "0.9818181818181818"
      ]
     },
     "execution_count": 34,
     "metadata": {},
     "output_type": "execute_result"
    }
   ],
   "source": [
    "len(shared_keywords)/len(pos_df.keyword.unique())"
   ]
  },
  {
   "cell_type": "markdown",
   "metadata": {},
   "source": [
    "- most keywords are shared between both target classes\n",
    "- top keywords of each class are inversely related to eachother (ie Positive top 20 is similar to negative bottom 20)"
   ]
  },
  {
   "cell_type": "code",
   "execution_count": 35,
   "metadata": {},
   "outputs": [],
   "source": [
    "#Probability\n",
    "plist = pos_df.keyword.values.tolist()\n",
    "nlist = neg_df.keyword.values.tolist()\n",
    "\n",
    "def ratios(x):\n",
    "    return round(plist.count(x)/(nlist.count(x)+plist.count(x)), 3)\n",
    "\n",
    "keyword_probs = [(ratios(x), x) for x\n",
    "       in nlp_df.keyword.unique() \n",
    "       if x in neg_df.keyword.unique() and x in pos_df.keyword.unique()]"
   ]
  },
  {
   "cell_type": "code",
   "execution_count": 36,
   "metadata": {
    "scrolled": true
   },
   "outputs": [
    {
     "data": {
      "text/plain": [
       "[(0.966, 'suicide%20bombing'),\n",
       " (0.964, 'suicide%20bomber'),\n",
       " (0.964, 'oil%20spill'),\n",
       " (0.957, 'typhoon'),\n",
       " (0.952, 'outbreak'),\n",
       " (0.917, 'bombing'),\n",
       " (0.909, 'nuclear%20disaster'),\n",
       " (0.886, 'evacuated'),\n",
       " (0.879, 'wildfire'),\n",
       " (0.871, 'wild%20fires'),\n",
       " (0.871, 'buildings%20on%20fire'),\n",
       " (0.87, 'rescuers'),\n",
       " (0.857, 'suicide%20bomb'),\n",
       " (0.852, 'bridge%20collapse'),\n",
       " (0.848, 'airplane%20accident'),\n",
       " (0.844, 'mass%20murder'),\n",
       " (0.844, 'forest%20fires'),\n",
       " (0.8, 'drought'),\n",
       " (0.8, 'casualties'),\n",
       " (0.788, 'evacuation')]"
      ]
     },
     "execution_count": 36,
     "metadata": {},
     "output_type": "execute_result"
    }
   ],
   "source": [
    "#of these keywords, what is the likelihood the tweet is classified as a disaster tweet?\n",
    "keyword_list = sorted(keyword_probs, reverse=True)\n",
    "keyword_list[:20]"
   ]
  },
  {
   "cell_type": "code",
   "execution_count": 37,
   "metadata": {},
   "outputs": [
    {
     "data": {
      "text/plain": [
       "[(0.098, 'harm'),\n",
       " (0.097, 'stretcher'),\n",
       " (0.094, 'drown'),\n",
       " (0.088, 'smoke'),\n",
       " (0.088, 'explode'),\n",
       " (0.088, 'collide'),\n",
       " (0.086, 'bloody'),\n",
       " (0.083, 'epicentre'),\n",
       " (0.081, 'panic'),\n",
       " (0.08, 'hellfire'),\n",
       " (0.077, 'wrecked'),\n",
       " (0.065, 'panicking'),\n",
       " (0.062, 'blight'),\n",
       " (0.061, 'blew%20up'),\n",
       " (0.057, 'traumatised'),\n",
       " (0.056, 'screaming'),\n",
       " (0.032, 'electrocute'),\n",
       " (0.03, 'blazing'),\n",
       " (0.027, 'ruin'),\n",
       " (0.024, 'body%20bags')]"
      ]
     },
     "execution_count": 37,
     "metadata": {},
     "output_type": "execute_result"
    }
   ],
   "source": [
    "keyword_list[-20:]"
   ]
  },
  {
   "cell_type": "markdown",
   "metadata": {},
   "source": [
    "### Location\n",
    "- locations can be edited by user and is not necessarily indicative"
   ]
  },
  {
   "cell_type": "code",
   "execution_count": 38,
   "metadata": {},
   "outputs": [
    {
     "data": {
      "text/plain": [
       "array([nan, 'Birmingham', 'Est. September 2012 - Bristol', ...,\n",
       "       'Vancouver, Canada', 'London ', 'Lincoln'], dtype=object)"
      ]
     },
     "execution_count": 38,
     "metadata": {},
     "output_type": "execute_result"
    }
   ],
   "source": [
    "nlp_df.location.unique()"
   ]
  },
  {
   "cell_type": "code",
   "execution_count": 39,
   "metadata": {
    "scrolled": false
   },
   "outputs": [
    {
     "data": {
      "image/png": "[encoded data removed]",
      "text/plain": [
       "<Figure size 648x504 with 1 Axes>"
      ]
     },
     "metadata": {},
     "output_type": "display_data"
    }
   ],
   "source": [
    "create_barh(pos_df, 'location', x=None, y=10, title='top 10 locations positive')"
   ]
  },
  {
   "cell_type": "code",
   "execution_count": 40,
   "metadata": {},
   "outputs": [
    {
     "data": {
      "image/png": "[encoded data removed]",
      "text/plain": [
       "<Figure size 648x504 with 1 Axes>"
      ]
     },
     "metadata": {},
     "output_type": "display_data"
    }
   ],
   "source": [
    "create_barh(neg_df, 'location', x=None, y=10, color='r', title='top 10 locations negative')"
   ]
  },
  {
   "cell_type": "code",
   "execution_count": 41,
   "metadata": {},
   "outputs": [
    {
     "data": {
      "text/plain": [
       "[(0.833, 'Oklahoma City, OK'),\n",
       " (0.8, 'WorldWide'),\n",
       " (0.8, 'US'),\n",
       " (0.8, 'Paterson, New Jersey '),\n",
       " (0.8, 'Mumbai'),\n",
       " (0.8, 'Melbourne, Australia'),\n",
       " (0.8, 'Lagos, Nigeria'),\n",
       " (0.8, 'India'),\n",
       " (0.778, 'Nashville, TN'),\n",
       " (0.75, 'The Netherlands'),\n",
       " (0.75, 'Sydney, New South Wales'),\n",
       " (0.75, 'Sydney, Australia'),\n",
       " (0.75, 'Phoenix, AZ'),\n",
       " (0.75, 'Oakland, CA'),\n",
       " (0.75, 'Nigeria'),\n",
       " (0.714, 'Washington, DC'),\n",
       " (0.714, 'Memphis, TN'),\n",
       " (0.7, 'Earth'),\n",
       " (0.692, 'Washington, D.C.'),\n",
       " (0.667, 'nyc')]"
      ]
     },
     "execution_count": 41,
     "metadata": {},
     "output_type": "execute_result"
    }
   ],
   "source": [
    "#Probability\n",
    "plist = pos_df.location.values.tolist()\n",
    "nlist = neg_df.location.values.tolist()\n",
    "\n",
    "def ratios(x):\n",
    "    return round(plist.count(x)/(nlist.count(x)+plist.count(x)), 3)\n",
    "\n",
    "location_probs = [(ratios(x), x) for x\n",
    "       in nlp_df.location.unique() \n",
    "       if x in neg_df.location.unique() and x in pos_df.location.unique()]\n",
    "\n",
    "sorted(location_probs, reverse=True)[:20]"
   ]
  },
  {
   "cell_type": "code",
   "execution_count": 42,
   "metadata": {},
   "outputs": [
    {
     "data": {
      "text/html": [
       "<div>\n",
       "<style scoped>\n",
       "    .dataframe tbody tr th:only-of-type {\n",
       "        vertical-align: middle;\n",
       "    }\n",
       "\n",
       "    .dataframe tbody tr th {\n",
       "        vertical-align: top;\n",
       "    }\n",
       "\n",
       "    .dataframe thead th {\n",
       "        text-align: right;\n",
       "    }\n",
       "</style>\n",
       "<table border=\"1\" class=\"dataframe\">\n",
       "  <thead>\n",
       "    <tr style=\"text-align: right;\">\n",
       "      <th></th>\n",
       "      <th>id</th>\n",
       "      <th>keyword</th>\n",
       "      <th>location</th>\n",
       "      <th>text</th>\n",
       "      <th>text_length</th>\n",
       "      <th>target</th>\n",
       "    </tr>\n",
       "  </thead>\n",
       "  <tbody>\n",
       "    <tr>\n",
       "      <th>181</th>\n",
       "      <td>260</td>\n",
       "      <td>ambulance</td>\n",
       "      <td>Mumbai</td>\n",
       "      <td>If I get run over by an ambulance am I lucky? ...</td>\n",
       "      <td>72</td>\n",
       "      <td>0</td>\n",
       "    </tr>\n",
       "    <tr>\n",
       "      <th>471</th>\n",
       "      <td>681</td>\n",
       "      <td>attack</td>\n",
       "      <td>Mumbai</td>\n",
       "      <td>India shud not give any evidence 2 pak.They wi...</td>\n",
       "      <td>121</td>\n",
       "      <td>1</td>\n",
       "    </tr>\n",
       "    <tr>\n",
       "      <th>1161</th>\n",
       "      <td>1672</td>\n",
       "      <td>bridge%20collapse</td>\n",
       "      <td>Mumbai</td>\n",
       "      <td>@ameenshaikh3 by ur. logic if bridge didnt col...</td>\n",
       "      <td>131</td>\n",
       "      <td>1</td>\n",
       "    </tr>\n",
       "    <tr>\n",
       "      <th>1194</th>\n",
       "      <td>1720</td>\n",
       "      <td>bridge%20collapse</td>\n",
       "      <td>Mumbai</td>\n",
       "      <td>@ameenshaikh3 sir i just only wanted to make a...</td>\n",
       "      <td>126</td>\n",
       "      <td>1</td>\n",
       "    </tr>\n",
       "    <tr>\n",
       "      <th>1753</th>\n",
       "      <td>2521</td>\n",
       "      <td>collision</td>\n",
       "      <td>Mumbai</td>\n",
       "      <td>ThisIsFaz: Anti Collision Rear- #technology #c...</td>\n",
       "      <td>71</td>\n",
       "      <td>0</td>\n",
       "    </tr>\n",
       "    <tr>\n",
       "      <th>2444</th>\n",
       "      <td>3509</td>\n",
       "      <td>derailment</td>\n",
       "      <td>Mumbai</td>\n",
       "      <td>MP trains derailment: Û÷ItÛªs the freakiest ...</td>\n",
       "      <td>124</td>\n",
       "      <td>1</td>\n",
       "    </tr>\n",
       "    <tr>\n",
       "      <th>2459</th>\n",
       "      <td>3527</td>\n",
       "      <td>derailment</td>\n",
       "      <td>Mumbai</td>\n",
       "      <td>Latest : Trains derailment: 'It's the freakies...</td>\n",
       "      <td>114</td>\n",
       "      <td>1</td>\n",
       "    </tr>\n",
       "    <tr>\n",
       "      <th>2464</th>\n",
       "      <td>3532</td>\n",
       "      <td>derailment</td>\n",
       "      <td>Mumbai</td>\n",
       "      <td>Mumbai24x7 Helping Hand: In Mumbai 2 TTEs take...</td>\n",
       "      <td>113</td>\n",
       "      <td>1</td>\n",
       "    </tr>\n",
       "    <tr>\n",
       "      <th>4547</th>\n",
       "      <td>6464</td>\n",
       "      <td>injured</td>\n",
       "      <td>Mumbai</td>\n",
       "      <td>Udhampur terror attack: Militants attack polic...</td>\n",
       "      <td>113</td>\n",
       "      <td>1</td>\n",
       "    </tr>\n",
       "    <tr>\n",
       "      <th>7505</th>\n",
       "      <td>10735</td>\n",
       "      <td>wreckage</td>\n",
       "      <td>Mumbai</td>\n",
       "      <td>Wreckage 'Conclusively Confirmed' as From MH37...</td>\n",
       "      <td>114</td>\n",
       "      <td>1</td>\n",
       "    </tr>\n",
       "  </tbody>\n",
       "</table>\n",
       "</div>"
      ],
      "text/plain": [
       "         id            keyword location  \\\n",
       "181     260          ambulance   Mumbai   \n",
       "471     681             attack   Mumbai   \n",
       "1161   1672  bridge%20collapse   Mumbai   \n",
       "1194   1720  bridge%20collapse   Mumbai   \n",
       "1753   2521          collision   Mumbai   \n",
       "2444   3509         derailment   Mumbai   \n",
       "2459   3527         derailment   Mumbai   \n",
       "2464   3532         derailment   Mumbai   \n",
       "4547   6464            injured   Mumbai   \n",
       "7505  10735           wreckage   Mumbai   \n",
       "\n",
       "                                                   text  text_length  target  \n",
       "181   If I get run over by an ambulance am I lucky? ...           72       0  \n",
       "471   India shud not give any evidence 2 pak.They wi...          121       1  \n",
       "1161  @ameenshaikh3 by ur. logic if bridge didnt col...          131       1  \n",
       "1194  @ameenshaikh3 sir i just only wanted to make a...          126       1  \n",
       "1753  ThisIsFaz: Anti Collision Rear- #technology #c...           71       0  \n",
       "2444  MP trains derailment: Û÷ItÛªs the freakiest ...          124       1  \n",
       "2459  Latest : Trains derailment: 'It's the freakies...          114       1  \n",
       "2464  Mumbai24x7 Helping Hand: In Mumbai 2 TTEs take...          113       1  \n",
       "4547  Udhampur terror attack: Militants attack polic...          113       1  \n",
       "7505  Wreckage 'Conclusively Confirmed' as From MH37...          114       1  "
      ]
     },
     "execution_count": 42,
     "metadata": {},
     "output_type": "execute_result"
    }
   ],
   "source": [
    "nlp_df[nlp_df.location=='Mumbai'][:10]"
   ]
  },
  {
   "cell_type": "markdown",
   "metadata": {},
   "source": [
    "## spaCy NLP"
   ]
  },
  {
   "cell_type": "code",
   "execution_count": 43,
   "metadata": {},
   "outputs": [],
   "source": [
    "import spacy\n",
    "from spacy import displacy\n",
    "#!python -m spacy download en_core_web_sm"
   ]
  },
  {
   "cell_type": "code",
   "execution_count": 44,
   "metadata": {},
   "outputs": [],
   "source": [
    "nlp = spacy.load('en_core_web_sm')"
   ]
  },
  {
   "cell_type": "code",
   "execution_count": 45,
   "metadata": {},
   "outputs": [
    {
     "data": {
      "text/plain": [
       "['#flood #disaster Heavy rain causes flash flooding of streets in Manitou, Colorado Springs areas',\n",
       " 'Volunteers needed to participate in Emergency Preparedness drill simulating a bioterrorism disaster:  @HVnewsnetwork',\n",
       " \"Australia's Ashes disaster - how the collapse unfolded at Trent Bridge... \\n #cricket\",\n",
       " \"Australia's Ashes disaster - how the collapse unfolded at Trent Bridge - Telegraph \",\n",
       " 'Emergency responders prepare for chemical disaster through Hazmat training. ']"
      ]
     },
     "execution_count": 45,
     "metadata": {},
     "output_type": "execute_result"
    }
   ],
   "source": [
    "def find_word(word, doc):\n",
    "    return word in doc\n",
    "\n",
    "g = [text for text in nlp_df.text.values.tolist() if find_word('disaster', text)]\n",
    "g[:5]"
   ]
  },
  {
   "cell_type": "code",
   "execution_count": 46,
   "metadata": {},
   "outputs": [
    {
     "data": {
      "text/plain": [
       "['That triumphant moment when you cook up two eggs over easy with no yolk casualties ?? ',\n",
       " 'Another movie theater attack..close to home this time. Thankful for no casualties. Life will go on because we cannot allow evil to win!',\n",
       " 'Civilian casualties rise as Afghan war intensifies in 2015-- ',\n",
       " \"Afghan conflict sees 'sharp rise' in female casualties  \",\n",
       " \"@LibertarianLuke I'm all for that to be honest. If people want to go on a rampage let them use their own hands and feet. No casualties.\"]"
      ]
     },
     "execution_count": 46,
     "metadata": {},
     "output_type": "execute_result"
    }
   ],
   "source": [
    "g = [text for text in nlp_df.text.values.tolist() if find_word('casualties', text)]\n",
    "g[:5]"
   ]
  },
  {
   "cell_type": "code",
   "execution_count": 47,
   "metadata": {},
   "outputs": [
    {
     "data": {
      "text/plain": [
       "['Bioterrorism public health superbug biolabs epidemics biosurveillance outbreaks | Homeland Security News Wire ',\n",
       " \"Families to sue over Legionnaires: More than 40 families affected by the fatal outbreak of Legionnaires' disea... \",\n",
       " \"Families to sue over Legionnaires: More than 40 families affected by the fatal outbreak of Legionnaires' disease in Edinburgh are to ...\",\n",
       " \"10th death confirmed in Legionnaires' outbreak in South Bronx; total cases reaches triple digits \",\n",
       " \"More than 40 families affected by the fatal outbreak of Legionnaires' disease in Edinburgh are to sue two comp... \"]"
      ]
     },
     "execution_count": 47,
     "metadata": {},
     "output_type": "execute_result"
    }
   ],
   "source": [
    "g = [text for text in nlp_df.text.values.tolist() if find_word('outbreak', text)]\n",
    "g[:5]"
   ]
  },
  {
   "cell_type": "code",
   "execution_count": 48,
   "metadata": {},
   "outputs": [
    {
     "data": {
      "text/html": [
       "<span class=\"tex2jax_ignore\"><svg xmlns=\"http://www.w3.org/2000/svg\" xmlns:xlink=\"http://www.w3.org/1999/xlink\" xml:lang=\"en\" id=\"d2fbb7c1b78443d8920b0c408fffed16-0\" class=\"displacy\" width=\"3025\" height=\"487.0\" direction=\"ltr\" style=\"max-width: none; height: 487.0px; color: #000000; background: #ffffff; font-family: Arial; direction: ltr\">\n",
       "<text class=\"displacy-token\" fill=\"currentColor\" text-anchor=\"middle\" y=\"397.0\">\n",
       "    <tspan class=\"displacy-word\" fill=\"currentColor\" x=\"50\">Families</tspan>\n",
       "    <tspan class=\"displacy-tag\" dy=\"2em\" fill=\"currentColor\" x=\"50\">NOUN</tspan>\n",
       "</text>\n",
       "\n",
       "<text class=\"displacy-token\" fill=\"currentColor\" text-anchor=\"middle\" y=\"397.0\">\n",
       "    <tspan class=\"displacy-word\" fill=\"currentColor\" x=\"225\">to</tspan>\n",
       "    <tspan class=\"displacy-tag\" dy=\"2em\" fill=\"currentColor\" x=\"225\">PART</tspan>\n",
       "</text>\n",
       "\n",
       "<text class=\"displacy-token\" fill=\"currentColor\" text-anchor=\"middle\" y=\"397.0\">\n",
       "    <tspan class=\"displacy-word\" fill=\"currentColor\" x=\"400\">sue</tspan>\n",
       "    <tspan class=\"displacy-tag\" dy=\"2em\" fill=\"currentColor\" x=\"400\">VERB</tspan>\n",
       "</text>\n",
       "\n",
       "<text class=\"displacy-token\" fill=\"currentColor\" text-anchor=\"middle\" y=\"397.0\">\n",
       "    <tspan class=\"displacy-word\" fill=\"currentColor\" x=\"575\">over</tspan>\n",
       "    <tspan class=\"displacy-tag\" dy=\"2em\" fill=\"currentColor\" x=\"575\">ADP</tspan>\n",
       "</text>\n",
       "\n",
       "<text class=\"displacy-token\" fill=\"currentColor\" text-anchor=\"middle\" y=\"397.0\">\n",
       "    <tspan class=\"displacy-word\" fill=\"currentColor\" x=\"750\">Legionnaires:</tspan>\n",
       "    <tspan class=\"displacy-tag\" dy=\"2em\" fill=\"currentColor\" x=\"750\">PROPN</tspan>\n",
       "</text>\n",
       "\n",
       "<text class=\"displacy-token\" fill=\"currentColor\" text-anchor=\"middle\" y=\"397.0\">\n",
       "    <tspan class=\"displacy-word\" fill=\"currentColor\" x=\"925\">More</tspan>\n",
       "    <tspan class=\"displacy-tag\" dy=\"2em\" fill=\"currentColor\" x=\"925\">ADJ</tspan>\n",
       "</text>\n",
       "\n",
       "<text class=\"displacy-token\" fill=\"currentColor\" text-anchor=\"middle\" y=\"397.0\">\n",
       "    <tspan class=\"displacy-word\" fill=\"currentColor\" x=\"1100\">than</tspan>\n",
       "    <tspan class=\"displacy-tag\" dy=\"2em\" fill=\"currentColor\" x=\"1100\">SCONJ</tspan>\n",
       "</text>\n",
       "\n",
       "<text class=\"displacy-token\" fill=\"currentColor\" text-anchor=\"middle\" y=\"397.0\">\n",
       "    <tspan class=\"displacy-word\" fill=\"currentColor\" x=\"1275\">40</tspan>\n",
       "    <tspan class=\"displacy-tag\" dy=\"2em\" fill=\"currentColor\" x=\"1275\">NUM</tspan>\n",
       "</text>\n",
       "\n",
       "<text class=\"displacy-token\" fill=\"currentColor\" text-anchor=\"middle\" y=\"397.0\">\n",
       "    <tspan class=\"displacy-word\" fill=\"currentColor\" x=\"1450\">families</tspan>\n",
       "    <tspan class=\"displacy-tag\" dy=\"2em\" fill=\"currentColor\" x=\"1450\">NOUN</tspan>\n",
       "</text>\n",
       "\n",
       "<text class=\"displacy-token\" fill=\"currentColor\" text-anchor=\"middle\" y=\"397.0\">\n",
       "    <tspan class=\"displacy-word\" fill=\"currentColor\" x=\"1625\">affected</tspan>\n",
       "    <tspan class=\"displacy-tag\" dy=\"2em\" fill=\"currentColor\" x=\"1625\">VERB</tspan>\n",
       "</text>\n",
       "\n",
       "<text class=\"displacy-token\" fill=\"currentColor\" text-anchor=\"middle\" y=\"397.0\">\n",
       "    <tspan class=\"displacy-word\" fill=\"currentColor\" x=\"1800\">by</tspan>\n",
       "    <tspan class=\"displacy-tag\" dy=\"2em\" fill=\"currentColor\" x=\"1800\">ADP</tspan>\n",
       "</text>\n",
       "\n",
       "<text class=\"displacy-token\" fill=\"currentColor\" text-anchor=\"middle\" y=\"397.0\">\n",
       "    <tspan class=\"displacy-word\" fill=\"currentColor\" x=\"1975\">the</tspan>\n",
       "    <tspan class=\"displacy-tag\" dy=\"2em\" fill=\"currentColor\" x=\"1975\">DET</tspan>\n",
       "</text>\n",
       "\n",
       "<text class=\"displacy-token\" fill=\"currentColor\" text-anchor=\"middle\" y=\"397.0\">\n",
       "    <tspan class=\"displacy-word\" fill=\"currentColor\" x=\"2150\">fatal</tspan>\n",
       "    <tspan class=\"displacy-tag\" dy=\"2em\" fill=\"currentColor\" x=\"2150\">ADJ</tspan>\n",
       "</text>\n",
       "\n",
       "<text class=\"displacy-token\" fill=\"currentColor\" text-anchor=\"middle\" y=\"397.0\">\n",
       "    <tspan class=\"displacy-word\" fill=\"currentColor\" x=\"2325\">outbreak</tspan>\n",
       "    <tspan class=\"displacy-tag\" dy=\"2em\" fill=\"currentColor\" x=\"2325\">NOUN</tspan>\n",
       "</text>\n",
       "\n",
       "<text class=\"displacy-token\" fill=\"currentColor\" text-anchor=\"middle\" y=\"397.0\">\n",
       "    <tspan class=\"displacy-word\" fill=\"currentColor\" x=\"2500\">of</tspan>\n",
       "    <tspan class=\"displacy-tag\" dy=\"2em\" fill=\"currentColor\" x=\"2500\">ADP</tspan>\n",
       "</text>\n",
       "\n",
       "<text class=\"displacy-token\" fill=\"currentColor\" text-anchor=\"middle\" y=\"397.0\">\n",
       "    <tspan class=\"displacy-word\" fill=\"currentColor\" x=\"2675\">Legionnaires'</tspan>\n",
       "    <tspan class=\"displacy-tag\" dy=\"2em\" fill=\"currentColor\" x=\"2675\">PROPN</tspan>\n",
       "</text>\n",
       "\n",
       "<text class=\"displacy-token\" fill=\"currentColor\" text-anchor=\"middle\" y=\"397.0\">\n",
       "    <tspan class=\"displacy-word\" fill=\"currentColor\" x=\"2850\">disea...</tspan>\n",
       "    <tspan class=\"displacy-tag\" dy=\"2em\" fill=\"currentColor\" x=\"2850\">NOUN</tspan>\n",
       "</text>\n",
       "\n",
       "<g class=\"displacy-arrow\">\n",
       "    <path class=\"displacy-arc\" id=\"arrow-d2fbb7c1b78443d8920b0c408fffed16-0-0\" stroke-width=\"2px\" d=\"M70,352.0 C70,177.0 390.0,177.0 390.0,352.0\" fill=\"none\" stroke=\"currentColor\"/>\n",
       "    <text dy=\"1.25em\" style=\"font-size: 0.8em; letter-spacing: 1px\">\n",
       "        <textPath xlink:href=\"#arrow-d2fbb7c1b78443d8920b0c408fffed16-0-0\" class=\"displacy-label\" startOffset=\"50%\" side=\"left\" fill=\"currentColor\" text-anchor=\"middle\">nsubj</textPath>\n",
       "    </text>\n",
       "    <path class=\"displacy-arrowhead\" d=\"M70,354.0 L62,342.0 78,342.0\" fill=\"currentColor\"/>\n",
       "</g>\n",
       "\n",
       "<g class=\"displacy-arrow\">\n",
       "    <path class=\"displacy-arc\" id=\"arrow-d2fbb7c1b78443d8920b0c408fffed16-0-1\" stroke-width=\"2px\" d=\"M245,352.0 C245,264.5 385.0,264.5 385.0,352.0\" fill=\"none\" stroke=\"currentColor\"/>\n",
       "    <text dy=\"1.25em\" style=\"font-size: 0.8em; letter-spacing: 1px\">\n",
       "        <textPath xlink:href=\"#arrow-d2fbb7c1b78443d8920b0c408fffed16-0-1\" class=\"displacy-label\" startOffset=\"50%\" side=\"left\" fill=\"currentColor\" text-anchor=\"middle\">aux</textPath>\n",
       "    </text>\n",
       "    <path class=\"displacy-arrowhead\" d=\"M245,354.0 L237,342.0 253,342.0\" fill=\"currentColor\"/>\n",
       "</g>\n",
       "\n",
       "<g class=\"displacy-arrow\">\n",
       "    <path class=\"displacy-arc\" id=\"arrow-d2fbb7c1b78443d8920b0c408fffed16-0-2\" stroke-width=\"2px\" d=\"M420,352.0 C420,264.5 560.0,264.5 560.0,352.0\" fill=\"none\" stroke=\"currentColor\"/>\n",
       "    <text dy=\"1.25em\" style=\"font-size: 0.8em; letter-spacing: 1px\">\n",
       "        <textPath xlink:href=\"#arrow-d2fbb7c1b78443d8920b0c408fffed16-0-2\" class=\"displacy-label\" startOffset=\"50%\" side=\"left\" fill=\"currentColor\" text-anchor=\"middle\">prt</textPath>\n",
       "    </text>\n",
       "    <path class=\"displacy-arrowhead\" d=\"M560.0,354.0 L568.0,342.0 552.0,342.0\" fill=\"currentColor\"/>\n",
       "</g>\n",
       "\n",
       "<g class=\"displacy-arrow\">\n",
       "    <path class=\"displacy-arc\" id=\"arrow-d2fbb7c1b78443d8920b0c408fffed16-0-3\" stroke-width=\"2px\" d=\"M595,352.0 C595,264.5 735.0,264.5 735.0,352.0\" fill=\"none\" stroke=\"currentColor\"/>\n",
       "    <text dy=\"1.25em\" style=\"font-size: 0.8em; letter-spacing: 1px\">\n",
       "        <textPath xlink:href=\"#arrow-d2fbb7c1b78443d8920b0c408fffed16-0-3\" class=\"displacy-label\" startOffset=\"50%\" side=\"left\" fill=\"currentColor\" text-anchor=\"middle\">pobj</textPath>\n",
       "    </text>\n",
       "    <path class=\"displacy-arrowhead\" d=\"M735.0,354.0 L743.0,342.0 727.0,342.0\" fill=\"currentColor\"/>\n",
       "</g>\n",
       "\n",
       "<g class=\"displacy-arrow\">\n",
       "    <path class=\"displacy-arc\" id=\"arrow-d2fbb7c1b78443d8920b0c408fffed16-0-4\" stroke-width=\"2px\" d=\"M945,352.0 C945,177.0 1265.0,177.0 1265.0,352.0\" fill=\"none\" stroke=\"currentColor\"/>\n",
       "    <text dy=\"1.25em\" style=\"font-size: 0.8em; letter-spacing: 1px\">\n",
       "        <textPath xlink:href=\"#arrow-d2fbb7c1b78443d8920b0c408fffed16-0-4\" class=\"displacy-label\" startOffset=\"50%\" side=\"left\" fill=\"currentColor\" text-anchor=\"middle\">amod</textPath>\n",
       "    </text>\n",
       "    <path class=\"displacy-arrowhead\" d=\"M945,354.0 L937,342.0 953,342.0\" fill=\"currentColor\"/>\n",
       "</g>\n",
       "\n",
       "<g class=\"displacy-arrow\">\n",
       "    <path class=\"displacy-arc\" id=\"arrow-d2fbb7c1b78443d8920b0c408fffed16-0-5\" stroke-width=\"2px\" d=\"M1120,352.0 C1120,264.5 1260.0,264.5 1260.0,352.0\" fill=\"none\" stroke=\"currentColor\"/>\n",
       "    <text dy=\"1.25em\" style=\"font-size: 0.8em; letter-spacing: 1px\">\n",
       "        <textPath xlink:href=\"#arrow-d2fbb7c1b78443d8920b0c408fffed16-0-5\" class=\"displacy-label\" startOffset=\"50%\" side=\"left\" fill=\"currentColor\" text-anchor=\"middle\">quantmod</textPath>\n",
       "    </text>\n",
       "    <path class=\"displacy-arrowhead\" d=\"M1120,354.0 L1112,342.0 1128,342.0\" fill=\"currentColor\"/>\n",
       "</g>\n",
       "\n",
       "<g class=\"displacy-arrow\">\n",
       "    <path class=\"displacy-arc\" id=\"arrow-d2fbb7c1b78443d8920b0c408fffed16-0-6\" stroke-width=\"2px\" d=\"M1295,352.0 C1295,264.5 1435.0,264.5 1435.0,352.0\" fill=\"none\" stroke=\"currentColor\"/>\n",
       "    <text dy=\"1.25em\" style=\"font-size: 0.8em; letter-spacing: 1px\">\n",
       "        <textPath xlink:href=\"#arrow-d2fbb7c1b78443d8920b0c408fffed16-0-6\" class=\"displacy-label\" startOffset=\"50%\" side=\"left\" fill=\"currentColor\" text-anchor=\"middle\">nummod</textPath>\n",
       "    </text>\n",
       "    <path class=\"displacy-arrowhead\" d=\"M1295,354.0 L1287,342.0 1303,342.0\" fill=\"currentColor\"/>\n",
       "</g>\n",
       "\n",
       "<g class=\"displacy-arrow\">\n",
       "    <path class=\"displacy-arc\" id=\"arrow-d2fbb7c1b78443d8920b0c408fffed16-0-7\" stroke-width=\"2px\" d=\"M420,352.0 C420,2.0 1450.0,2.0 1450.0,352.0\" fill=\"none\" stroke=\"currentColor\"/>\n",
       "    <text dy=\"1.25em\" style=\"font-size: 0.8em; letter-spacing: 1px\">\n",
       "        <textPath xlink:href=\"#arrow-d2fbb7c1b78443d8920b0c408fffed16-0-7\" class=\"displacy-label\" startOffset=\"50%\" side=\"left\" fill=\"currentColor\" text-anchor=\"middle\">dobj</textPath>\n",
       "    </text>\n",
       "    <path class=\"displacy-arrowhead\" d=\"M1450.0,354.0 L1458.0,342.0 1442.0,342.0\" fill=\"currentColor\"/>\n",
       "</g>\n",
       "\n",
       "<g class=\"displacy-arrow\">\n",
       "    <path class=\"displacy-arc\" id=\"arrow-d2fbb7c1b78443d8920b0c408fffed16-0-8\" stroke-width=\"2px\" d=\"M1470,352.0 C1470,264.5 1610.0,264.5 1610.0,352.0\" fill=\"none\" stroke=\"currentColor\"/>\n",
       "    <text dy=\"1.25em\" style=\"font-size: 0.8em; letter-spacing: 1px\">\n",
       "        <textPath xlink:href=\"#arrow-d2fbb7c1b78443d8920b0c408fffed16-0-8\" class=\"displacy-label\" startOffset=\"50%\" side=\"left\" fill=\"currentColor\" text-anchor=\"middle\">acl</textPath>\n",
       "    </text>\n",
       "    <path class=\"displacy-arrowhead\" d=\"M1610.0,354.0 L1618.0,342.0 1602.0,342.0\" fill=\"currentColor\"/>\n",
       "</g>\n",
       "\n",
       "<g class=\"displacy-arrow\">\n",
       "    <path class=\"displacy-arc\" id=\"arrow-d2fbb7c1b78443d8920b0c408fffed16-0-9\" stroke-width=\"2px\" d=\"M1645,352.0 C1645,264.5 1785.0,264.5 1785.0,352.0\" fill=\"none\" stroke=\"currentColor\"/>\n",
       "    <text dy=\"1.25em\" style=\"font-size: 0.8em; letter-spacing: 1px\">\n",
       "        <textPath xlink:href=\"#arrow-d2fbb7c1b78443d8920b0c408fffed16-0-9\" class=\"displacy-label\" startOffset=\"50%\" side=\"left\" fill=\"currentColor\" text-anchor=\"middle\">agent</textPath>\n",
       "    </text>\n",
       "    <path class=\"displacy-arrowhead\" d=\"M1785.0,354.0 L1793.0,342.0 1777.0,342.0\" fill=\"currentColor\"/>\n",
       "</g>\n",
       "\n",
       "<g class=\"displacy-arrow\">\n",
       "    <path class=\"displacy-arc\" id=\"arrow-d2fbb7c1b78443d8920b0c408fffed16-0-10\" stroke-width=\"2px\" d=\"M1995,352.0 C1995,177.0 2315.0,177.0 2315.0,352.0\" fill=\"none\" stroke=\"currentColor\"/>\n",
       "    <text dy=\"1.25em\" style=\"font-size: 0.8em; letter-spacing: 1px\">\n",
       "        <textPath xlink:href=\"#arrow-d2fbb7c1b78443d8920b0c408fffed16-0-10\" class=\"displacy-label\" startOffset=\"50%\" side=\"left\" fill=\"currentColor\" text-anchor=\"middle\">det</textPath>\n",
       "    </text>\n",
       "    <path class=\"displacy-arrowhead\" d=\"M1995,354.0 L1987,342.0 2003,342.0\" fill=\"currentColor\"/>\n",
       "</g>\n",
       "\n",
       "<g class=\"displacy-arrow\">\n",
       "    <path class=\"displacy-arc\" id=\"arrow-d2fbb7c1b78443d8920b0c408fffed16-0-11\" stroke-width=\"2px\" d=\"M2170,352.0 C2170,264.5 2310.0,264.5 2310.0,352.0\" fill=\"none\" stroke=\"currentColor\"/>\n",
       "    <text dy=\"1.25em\" style=\"font-size: 0.8em; letter-spacing: 1px\">\n",
       "        <textPath xlink:href=\"#arrow-d2fbb7c1b78443d8920b0c408fffed16-0-11\" class=\"displacy-label\" startOffset=\"50%\" side=\"left\" fill=\"currentColor\" text-anchor=\"middle\">amod</textPath>\n",
       "    </text>\n",
       "    <path class=\"displacy-arrowhead\" d=\"M2170,354.0 L2162,342.0 2178,342.0\" fill=\"currentColor\"/>\n",
       "</g>\n",
       "\n",
       "<g class=\"displacy-arrow\">\n",
       "    <path class=\"displacy-arc\" id=\"arrow-d2fbb7c1b78443d8920b0c408fffed16-0-12\" stroke-width=\"2px\" d=\"M1820,352.0 C1820,89.5 2320.0,89.5 2320.0,352.0\" fill=\"none\" stroke=\"currentColor\"/>\n",
       "    <text dy=\"1.25em\" style=\"font-size: 0.8em; letter-spacing: 1px\">\n",
       "        <textPath xlink:href=\"#arrow-d2fbb7c1b78443d8920b0c408fffed16-0-12\" class=\"displacy-label\" startOffset=\"50%\" side=\"left\" fill=\"currentColor\" text-anchor=\"middle\">pobj</textPath>\n",
       "    </text>\n",
       "    <path class=\"displacy-arrowhead\" d=\"M2320.0,354.0 L2328.0,342.0 2312.0,342.0\" fill=\"currentColor\"/>\n",
       "</g>\n",
       "\n",
       "<g class=\"displacy-arrow\">\n",
       "    <path class=\"displacy-arc\" id=\"arrow-d2fbb7c1b78443d8920b0c408fffed16-0-13\" stroke-width=\"2px\" d=\"M2345,352.0 C2345,264.5 2485.0,264.5 2485.0,352.0\" fill=\"none\" stroke=\"currentColor\"/>\n",
       "    <text dy=\"1.25em\" style=\"font-size: 0.8em; letter-spacing: 1px\">\n",
       "        <textPath xlink:href=\"#arrow-d2fbb7c1b78443d8920b0c408fffed16-0-13\" class=\"displacy-label\" startOffset=\"50%\" side=\"left\" fill=\"currentColor\" text-anchor=\"middle\">prep</textPath>\n",
       "    </text>\n",
       "    <path class=\"displacy-arrowhead\" d=\"M2485.0,354.0 L2493.0,342.0 2477.0,342.0\" fill=\"currentColor\"/>\n",
       "</g>\n",
       "\n",
       "<g class=\"displacy-arrow\">\n",
       "    <path class=\"displacy-arc\" id=\"arrow-d2fbb7c1b78443d8920b0c408fffed16-0-14\" stroke-width=\"2px\" d=\"M2695,352.0 C2695,264.5 2835.0,264.5 2835.0,352.0\" fill=\"none\" stroke=\"currentColor\"/>\n",
       "    <text dy=\"1.25em\" style=\"font-size: 0.8em; letter-spacing: 1px\">\n",
       "        <textPath xlink:href=\"#arrow-d2fbb7c1b78443d8920b0c408fffed16-0-14\" class=\"displacy-label\" startOffset=\"50%\" side=\"left\" fill=\"currentColor\" text-anchor=\"middle\">poss</textPath>\n",
       "    </text>\n",
       "    <path class=\"displacy-arrowhead\" d=\"M2695,354.0 L2687,342.0 2703,342.0\" fill=\"currentColor\"/>\n",
       "</g>\n",
       "\n",
       "<g class=\"displacy-arrow\">\n",
       "    <path class=\"displacy-arc\" id=\"arrow-d2fbb7c1b78443d8920b0c408fffed16-0-15\" stroke-width=\"2px\" d=\"M2520,352.0 C2520,177.0 2840.0,177.0 2840.0,352.0\" fill=\"none\" stroke=\"currentColor\"/>\n",
       "    <text dy=\"1.25em\" style=\"font-size: 0.8em; letter-spacing: 1px\">\n",
       "        <textPath xlink:href=\"#arrow-d2fbb7c1b78443d8920b0c408fffed16-0-15\" class=\"displacy-label\" startOffset=\"50%\" side=\"left\" fill=\"currentColor\" text-anchor=\"middle\">pobj</textPath>\n",
       "    </text>\n",
       "    <path class=\"displacy-arrowhead\" d=\"M2840.0,354.0 L2848.0,342.0 2832.0,342.0\" fill=\"currentColor\"/>\n",
       "</g>\n",
       "</svg></span>"
      ],
      "text/plain": [
       "<IPython.core.display.HTML object>"
      ]
     },
     "metadata": {},
     "output_type": "display_data"
    }
   ],
   "source": [
    "doc = nlp(g[1])\n",
    "displacy.render(doc)"
   ]
  },
  {
   "cell_type": "code",
   "execution_count": 50,
   "metadata": {},
   "outputs": [
    {
     "data": {
      "text/html": [
       "<div>\n",
       "<style scoped>\n",
       "    .dataframe tbody tr th:only-of-type {\n",
       "        vertical-align: middle;\n",
       "    }\n",
       "\n",
       "    .dataframe tbody tr th {\n",
       "        vertical-align: top;\n",
       "    }\n",
       "\n",
       "    .dataframe thead th {\n",
       "        text-align: right;\n",
       "    }\n",
       "</style>\n",
       "<table border=\"1\" class=\"dataframe\">\n",
       "  <thead>\n",
       "    <tr style=\"text-align: right;\">\n",
       "      <th></th>\n",
       "      <th>id</th>\n",
       "      <th>keyword</th>\n",
       "      <th>location</th>\n",
       "      <th>text</th>\n",
       "      <th>text_length</th>\n",
       "      <th>target</th>\n",
       "    </tr>\n",
       "  </thead>\n",
       "  <tbody>\n",
       "    <tr>\n",
       "      <th>5280</th>\n",
       "      <td>7545</td>\n",
       "      <td>outbreak</td>\n",
       "      <td>Chile</td>\n",
       "      <td>Families to sue over Legionnaires: More than 4...</td>\n",
       "      <td>114</td>\n",
       "      <td>1</td>\n",
       "    </tr>\n",
       "  </tbody>\n",
       "</table>\n",
       "</div>"
      ],
      "text/plain": [
       "        id   keyword location  \\\n",
       "5280  7545  outbreak    Chile   \n",
       "\n",
       "                                                   text  text_length  target  \n",
       "5280  Families to sue over Legionnaires: More than 4...          114       1  "
      ]
     },
     "execution_count": 50,
     "metadata": {},
     "output_type": "execute_result"
    }
   ],
   "source": [
    "nlp_df[nlp_df.text==str(g[1])] #positive"
   ]
  },
  {
   "cell_type": "code",
   "execution_count": 51,
   "metadata": {},
   "outputs": [
    {
     "data": {
      "text/html": [
       "<span class=\"tex2jax_ignore\"><svg xmlns=\"http://www.w3.org/2000/svg\" xmlns:xlink=\"http://www.w3.org/1999/xlink\" xml:lang=\"en\" id=\"8a98892bf0314cb3aec57b24a5d12e07-0\" class=\"displacy\" width=\"3725\" height=\"574.5\" direction=\"ltr\" style=\"max-width: none; height: 574.5px; color: #000000; background: #ffffff; font-family: Arial; direction: ltr\">\n",
       "<text class=\"displacy-token\" fill=\"currentColor\" text-anchor=\"middle\" y=\"484.5\">\n",
       "    <tspan class=\"displacy-word\" fill=\"currentColor\" x=\"50\">Families</tspan>\n",
       "    <tspan class=\"displacy-tag\" dy=\"2em\" fill=\"currentColor\" x=\"50\">NOUN</tspan>\n",
       "</text>\n",
       "\n",
       "<text class=\"displacy-token\" fill=\"currentColor\" text-anchor=\"middle\" y=\"484.5\">\n",
       "    <tspan class=\"displacy-word\" fill=\"currentColor\" x=\"225\">to</tspan>\n",
       "    <tspan class=\"displacy-tag\" dy=\"2em\" fill=\"currentColor\" x=\"225\">PART</tspan>\n",
       "</text>\n",
       "\n",
       "<text class=\"displacy-token\" fill=\"currentColor\" text-anchor=\"middle\" y=\"484.5\">\n",
       "    <tspan class=\"displacy-word\" fill=\"currentColor\" x=\"400\">sue</tspan>\n",
       "    <tspan class=\"displacy-tag\" dy=\"2em\" fill=\"currentColor\" x=\"400\">VERB</tspan>\n",
       "</text>\n",
       "\n",
       "<text class=\"displacy-token\" fill=\"currentColor\" text-anchor=\"middle\" y=\"484.5\">\n",
       "    <tspan class=\"displacy-word\" fill=\"currentColor\" x=\"575\">over</tspan>\n",
       "    <tspan class=\"displacy-tag\" dy=\"2em\" fill=\"currentColor\" x=\"575\">ADP</tspan>\n",
       "</text>\n",
       "\n",
       "<text class=\"displacy-token\" fill=\"currentColor\" text-anchor=\"middle\" y=\"484.5\">\n",
       "    <tspan class=\"displacy-word\" fill=\"currentColor\" x=\"750\">Legionnaires:</tspan>\n",
       "    <tspan class=\"displacy-tag\" dy=\"2em\" fill=\"currentColor\" x=\"750\">PROPN</tspan>\n",
       "</text>\n",
       "\n",
       "<text class=\"displacy-token\" fill=\"currentColor\" text-anchor=\"middle\" y=\"484.5\">\n",
       "    <tspan class=\"displacy-word\" fill=\"currentColor\" x=\"925\">More</tspan>\n",
       "    <tspan class=\"displacy-tag\" dy=\"2em\" fill=\"currentColor\" x=\"925\">ADJ</tspan>\n",
       "</text>\n",
       "\n",
       "<text class=\"displacy-token\" fill=\"currentColor\" text-anchor=\"middle\" y=\"484.5\">\n",
       "    <tspan class=\"displacy-word\" fill=\"currentColor\" x=\"1100\">than</tspan>\n",
       "    <tspan class=\"displacy-tag\" dy=\"2em\" fill=\"currentColor\" x=\"1100\">SCONJ</tspan>\n",
       "</text>\n",
       "\n",
       "<text class=\"displacy-token\" fill=\"currentColor\" text-anchor=\"middle\" y=\"484.5\">\n",
       "    <tspan class=\"displacy-word\" fill=\"currentColor\" x=\"1275\">40</tspan>\n",
       "    <tspan class=\"displacy-tag\" dy=\"2em\" fill=\"currentColor\" x=\"1275\">NUM</tspan>\n",
       "</text>\n",
       "\n",
       "<text class=\"displacy-token\" fill=\"currentColor\" text-anchor=\"middle\" y=\"484.5\">\n",
       "    <tspan class=\"displacy-word\" fill=\"currentColor\" x=\"1450\">families</tspan>\n",
       "    <tspan class=\"displacy-tag\" dy=\"2em\" fill=\"currentColor\" x=\"1450\">NOUN</tspan>\n",
       "</text>\n",
       "\n",
       "<text class=\"displacy-token\" fill=\"currentColor\" text-anchor=\"middle\" y=\"484.5\">\n",
       "    <tspan class=\"displacy-word\" fill=\"currentColor\" x=\"1625\">affected</tspan>\n",
       "    <tspan class=\"displacy-tag\" dy=\"2em\" fill=\"currentColor\" x=\"1625\">VERB</tspan>\n",
       "</text>\n",
       "\n",
       "<text class=\"displacy-token\" fill=\"currentColor\" text-anchor=\"middle\" y=\"484.5\">\n",
       "    <tspan class=\"displacy-word\" fill=\"currentColor\" x=\"1800\">by</tspan>\n",
       "    <tspan class=\"displacy-tag\" dy=\"2em\" fill=\"currentColor\" x=\"1800\">ADP</tspan>\n",
       "</text>\n",
       "\n",
       "<text class=\"displacy-token\" fill=\"currentColor\" text-anchor=\"middle\" y=\"484.5\">\n",
       "    <tspan class=\"displacy-word\" fill=\"currentColor\" x=\"1975\">the</tspan>\n",
       "    <tspan class=\"displacy-tag\" dy=\"2em\" fill=\"currentColor\" x=\"1975\">DET</tspan>\n",
       "</text>\n",
       "\n",
       "<text class=\"displacy-token\" fill=\"currentColor\" text-anchor=\"middle\" y=\"484.5\">\n",
       "    <tspan class=\"displacy-word\" fill=\"currentColor\" x=\"2150\">fatal</tspan>\n",
       "    <tspan class=\"displacy-tag\" dy=\"2em\" fill=\"currentColor\" x=\"2150\">ADJ</tspan>\n",
       "</text>\n",
       "\n",
       "<text class=\"displacy-token\" fill=\"currentColor\" text-anchor=\"middle\" y=\"484.5\">\n",
       "    <tspan class=\"displacy-word\" fill=\"currentColor\" x=\"2325\">outbreak</tspan>\n",
       "    <tspan class=\"displacy-tag\" dy=\"2em\" fill=\"currentColor\" x=\"2325\">NOUN</tspan>\n",
       "</text>\n",
       "\n",
       "<text class=\"displacy-token\" fill=\"currentColor\" text-anchor=\"middle\" y=\"484.5\">\n",
       "    <tspan class=\"displacy-word\" fill=\"currentColor\" x=\"2500\">of</tspan>\n",
       "    <tspan class=\"displacy-tag\" dy=\"2em\" fill=\"currentColor\" x=\"2500\">ADP</tspan>\n",
       "</text>\n",
       "\n",
       "<text class=\"displacy-token\" fill=\"currentColor\" text-anchor=\"middle\" y=\"484.5\">\n",
       "    <tspan class=\"displacy-word\" fill=\"currentColor\" x=\"2675\">Legionnaires'</tspan>\n",
       "    <tspan class=\"displacy-tag\" dy=\"2em\" fill=\"currentColor\" x=\"2675\">PROPN</tspan>\n",
       "</text>\n",
       "\n",
       "<text class=\"displacy-token\" fill=\"currentColor\" text-anchor=\"middle\" y=\"484.5\">\n",
       "    <tspan class=\"displacy-word\" fill=\"currentColor\" x=\"2850\">disease</tspan>\n",
       "    <tspan class=\"displacy-tag\" dy=\"2em\" fill=\"currentColor\" x=\"2850\">NOUN</tspan>\n",
       "</text>\n",
       "\n",
       "<text class=\"displacy-token\" fill=\"currentColor\" text-anchor=\"middle\" y=\"484.5\">\n",
       "    <tspan class=\"displacy-word\" fill=\"currentColor\" x=\"3025\">in</tspan>\n",
       "    <tspan class=\"displacy-tag\" dy=\"2em\" fill=\"currentColor\" x=\"3025\">ADP</tspan>\n",
       "</text>\n",
       "\n",
       "<text class=\"displacy-token\" fill=\"currentColor\" text-anchor=\"middle\" y=\"484.5\">\n",
       "    <tspan class=\"displacy-word\" fill=\"currentColor\" x=\"3200\">Edinburgh</tspan>\n",
       "    <tspan class=\"displacy-tag\" dy=\"2em\" fill=\"currentColor\" x=\"3200\">PROPN</tspan>\n",
       "</text>\n",
       "\n",
       "<text class=\"displacy-token\" fill=\"currentColor\" text-anchor=\"middle\" y=\"484.5\">\n",
       "    <tspan class=\"displacy-word\" fill=\"currentColor\" x=\"3375\">are</tspan>\n",
       "    <tspan class=\"displacy-tag\" dy=\"2em\" fill=\"currentColor\" x=\"3375\">AUX</tspan>\n",
       "</text>\n",
       "\n",
       "<text class=\"displacy-token\" fill=\"currentColor\" text-anchor=\"middle\" y=\"484.5\">\n",
       "    <tspan class=\"displacy-word\" fill=\"currentColor\" x=\"3550\">to ...</tspan>\n",
       "    <tspan class=\"displacy-tag\" dy=\"2em\" fill=\"currentColor\" x=\"3550\">ADP</tspan>\n",
       "</text>\n",
       "\n",
       "<g class=\"displacy-arrow\">\n",
       "    <path class=\"displacy-arc\" id=\"arrow-8a98892bf0314cb3aec57b24a5d12e07-0-0\" stroke-width=\"2px\" d=\"M70,439.5 C70,264.5 385.0,264.5 385.0,439.5\" fill=\"none\" stroke=\"currentColor\"/>\n",
       "    <text dy=\"1.25em\" style=\"font-size: 0.8em; letter-spacing: 1px\">\n",
       "        <textPath xlink:href=\"#arrow-8a98892bf0314cb3aec57b24a5d12e07-0-0\" class=\"displacy-label\" startOffset=\"50%\" side=\"left\" fill=\"currentColor\" text-anchor=\"middle\">nsubj</textPath>\n",
       "    </text>\n",
       "    <path class=\"displacy-arrowhead\" d=\"M70,441.5 L62,429.5 78,429.5\" fill=\"currentColor\"/>\n",
       "</g>\n",
       "\n",
       "<g class=\"displacy-arrow\">\n",
       "    <path class=\"displacy-arc\" id=\"arrow-8a98892bf0314cb3aec57b24a5d12e07-0-1\" stroke-width=\"2px\" d=\"M245,439.5 C245,352.0 380.0,352.0 380.0,439.5\" fill=\"none\" stroke=\"currentColor\"/>\n",
       "    <text dy=\"1.25em\" style=\"font-size: 0.8em; letter-spacing: 1px\">\n",
       "        <textPath xlink:href=\"#arrow-8a98892bf0314cb3aec57b24a5d12e07-0-1\" class=\"displacy-label\" startOffset=\"50%\" side=\"left\" fill=\"currentColor\" text-anchor=\"middle\">aux</textPath>\n",
       "    </text>\n",
       "    <path class=\"displacy-arrowhead\" d=\"M245,441.5 L237,429.5 253,429.5\" fill=\"currentColor\"/>\n",
       "</g>\n",
       "\n",
       "<g class=\"displacy-arrow\">\n",
       "    <path class=\"displacy-arc\" id=\"arrow-8a98892bf0314cb3aec57b24a5d12e07-0-2\" stroke-width=\"2px\" d=\"M420,439.5 C420,2.0 3375.0,2.0 3375.0,439.5\" fill=\"none\" stroke=\"currentColor\"/>\n",
       "    <text dy=\"1.25em\" style=\"font-size: 0.8em; letter-spacing: 1px\">\n",
       "        <textPath xlink:href=\"#arrow-8a98892bf0314cb3aec57b24a5d12e07-0-2\" class=\"displacy-label\" startOffset=\"50%\" side=\"left\" fill=\"currentColor\" text-anchor=\"middle\">ccomp</textPath>\n",
       "    </text>\n",
       "    <path class=\"displacy-arrowhead\" d=\"M420,441.5 L412,429.5 428,429.5\" fill=\"currentColor\"/>\n",
       "</g>\n",
       "\n",
       "<g class=\"displacy-arrow\">\n",
       "    <path class=\"displacy-arc\" id=\"arrow-8a98892bf0314cb3aec57b24a5d12e07-0-3\" stroke-width=\"2px\" d=\"M420,439.5 C420,352.0 555.0,352.0 555.0,439.5\" fill=\"none\" stroke=\"currentColor\"/>\n",
       "    <text dy=\"1.25em\" style=\"font-size: 0.8em; letter-spacing: 1px\">\n",
       "        <textPath xlink:href=\"#arrow-8a98892bf0314cb3aec57b24a5d12e07-0-3\" class=\"displacy-label\" startOffset=\"50%\" side=\"left\" fill=\"currentColor\" text-anchor=\"middle\">prt</textPath>\n",
       "    </text>\n",
       "    <path class=\"displacy-arrowhead\" d=\"M555.0,441.5 L563.0,429.5 547.0,429.5\" fill=\"currentColor\"/>\n",
       "</g>\n",
       "\n",
       "<g class=\"displacy-arrow\">\n",
       "    <path class=\"displacy-arc\" id=\"arrow-8a98892bf0314cb3aec57b24a5d12e07-0-4\" stroke-width=\"2px\" d=\"M595,439.5 C595,352.0 730.0,352.0 730.0,439.5\" fill=\"none\" stroke=\"currentColor\"/>\n",
       "    <text dy=\"1.25em\" style=\"font-size: 0.8em; letter-spacing: 1px\">\n",
       "        <textPath xlink:href=\"#arrow-8a98892bf0314cb3aec57b24a5d12e07-0-4\" class=\"displacy-label\" startOffset=\"50%\" side=\"left\" fill=\"currentColor\" text-anchor=\"middle\">pobj</textPath>\n",
       "    </text>\n",
       "    <path class=\"displacy-arrowhead\" d=\"M730.0,441.5 L738.0,429.5 722.0,429.5\" fill=\"currentColor\"/>\n",
       "</g>\n",
       "\n",
       "<g class=\"displacy-arrow\">\n",
       "    <path class=\"displacy-arc\" id=\"arrow-8a98892bf0314cb3aec57b24a5d12e07-0-5\" stroke-width=\"2px\" d=\"M945,439.5 C945,264.5 1260.0,264.5 1260.0,439.5\" fill=\"none\" stroke=\"currentColor\"/>\n",
       "    <text dy=\"1.25em\" style=\"font-size: 0.8em; letter-spacing: 1px\">\n",
       "        <textPath xlink:href=\"#arrow-8a98892bf0314cb3aec57b24a5d12e07-0-5\" class=\"displacy-label\" startOffset=\"50%\" side=\"left\" fill=\"currentColor\" text-anchor=\"middle\">amod</textPath>\n",
       "    </text>\n",
       "    <path class=\"displacy-arrowhead\" d=\"M945,441.5 L937,429.5 953,429.5\" fill=\"currentColor\"/>\n",
       "</g>\n",
       "\n",
       "<g class=\"displacy-arrow\">\n",
       "    <path class=\"displacy-arc\" id=\"arrow-8a98892bf0314cb3aec57b24a5d12e07-0-6\" stroke-width=\"2px\" d=\"M1120,439.5 C1120,352.0 1255.0,352.0 1255.0,439.5\" fill=\"none\" stroke=\"currentColor\"/>\n",
       "    <text dy=\"1.25em\" style=\"font-size: 0.8em; letter-spacing: 1px\">\n",
       "        <textPath xlink:href=\"#arrow-8a98892bf0314cb3aec57b24a5d12e07-0-6\" class=\"displacy-label\" startOffset=\"50%\" side=\"left\" fill=\"currentColor\" text-anchor=\"middle\">quantmod</textPath>\n",
       "    </text>\n",
       "    <path class=\"displacy-arrowhead\" d=\"M1120,441.5 L1112,429.5 1128,429.5\" fill=\"currentColor\"/>\n",
       "</g>\n",
       "\n",
       "<g class=\"displacy-arrow\">\n",
       "    <path class=\"displacy-arc\" id=\"arrow-8a98892bf0314cb3aec57b24a5d12e07-0-7\" stroke-width=\"2px\" d=\"M1295,439.5 C1295,352.0 1430.0,352.0 1430.0,439.5\" fill=\"none\" stroke=\"currentColor\"/>\n",
       "    <text dy=\"1.25em\" style=\"font-size: 0.8em; letter-spacing: 1px\">\n",
       "        <textPath xlink:href=\"#arrow-8a98892bf0314cb3aec57b24a5d12e07-0-7\" class=\"displacy-label\" startOffset=\"50%\" side=\"left\" fill=\"currentColor\" text-anchor=\"middle\">nummod</textPath>\n",
       "    </text>\n",
       "    <path class=\"displacy-arrowhead\" d=\"M1295,441.5 L1287,429.5 1303,429.5\" fill=\"currentColor\"/>\n",
       "</g>\n",
       "\n",
       "<g class=\"displacy-arrow\">\n",
       "    <path class=\"displacy-arc\" id=\"arrow-8a98892bf0314cb3aec57b24a5d12e07-0-8\" stroke-width=\"2px\" d=\"M1470,439.5 C1470,89.5 3370.0,89.5 3370.0,439.5\" fill=\"none\" stroke=\"currentColor\"/>\n",
       "    <text dy=\"1.25em\" style=\"font-size: 0.8em; letter-spacing: 1px\">\n",
       "        <textPath xlink:href=\"#arrow-8a98892bf0314cb3aec57b24a5d12e07-0-8\" class=\"displacy-label\" startOffset=\"50%\" side=\"left\" fill=\"currentColor\" text-anchor=\"middle\">nsubj</textPath>\n",
       "    </text>\n",
       "    <path class=\"displacy-arrowhead\" d=\"M1470,441.5 L1462,429.5 1478,429.5\" fill=\"currentColor\"/>\n",
       "</g>\n",
       "\n",
       "<g class=\"displacy-arrow\">\n",
       "    <path class=\"displacy-arc\" id=\"arrow-8a98892bf0314cb3aec57b24a5d12e07-0-9\" stroke-width=\"2px\" d=\"M1470,439.5 C1470,352.0 1605.0,352.0 1605.0,439.5\" fill=\"none\" stroke=\"currentColor\"/>\n",
       "    <text dy=\"1.25em\" style=\"font-size: 0.8em; letter-spacing: 1px\">\n",
       "        <textPath xlink:href=\"#arrow-8a98892bf0314cb3aec57b24a5d12e07-0-9\" class=\"displacy-label\" startOffset=\"50%\" side=\"left\" fill=\"currentColor\" text-anchor=\"middle\">acl</textPath>\n",
       "    </text>\n",
       "    <path class=\"displacy-arrowhead\" d=\"M1605.0,441.5 L1613.0,429.5 1597.0,429.5\" fill=\"currentColor\"/>\n",
       "</g>\n",
       "\n",
       "<g class=\"displacy-arrow\">\n",
       "    <path class=\"displacy-arc\" id=\"arrow-8a98892bf0314cb3aec57b24a5d12e07-0-10\" stroke-width=\"2px\" d=\"M1645,439.5 C1645,352.0 1780.0,352.0 1780.0,439.5\" fill=\"none\" stroke=\"currentColor\"/>\n",
       "    <text dy=\"1.25em\" style=\"font-size: 0.8em; letter-spacing: 1px\">\n",
       "        <textPath xlink:href=\"#arrow-8a98892bf0314cb3aec57b24a5d12e07-0-10\" class=\"displacy-label\" startOffset=\"50%\" side=\"left\" fill=\"currentColor\" text-anchor=\"middle\">agent</textPath>\n",
       "    </text>\n",
       "    <path class=\"displacy-arrowhead\" d=\"M1780.0,441.5 L1788.0,429.5 1772.0,429.5\" fill=\"currentColor\"/>\n",
       "</g>\n",
       "\n",
       "<g class=\"displacy-arrow\">\n",
       "    <path class=\"displacy-arc\" id=\"arrow-8a98892bf0314cb3aec57b24a5d12e07-0-11\" stroke-width=\"2px\" d=\"M1995,439.5 C1995,264.5 2310.0,264.5 2310.0,439.5\" fill=\"none\" stroke=\"currentColor\"/>\n",
       "    <text dy=\"1.25em\" style=\"font-size: 0.8em; letter-spacing: 1px\">\n",
       "        <textPath xlink:href=\"#arrow-8a98892bf0314cb3aec57b24a5d12e07-0-11\" class=\"displacy-label\" startOffset=\"50%\" side=\"left\" fill=\"currentColor\" text-anchor=\"middle\">det</textPath>\n",
       "    </text>\n",
       "    <path class=\"displacy-arrowhead\" d=\"M1995,441.5 L1987,429.5 2003,429.5\" fill=\"currentColor\"/>\n",
       "</g>\n",
       "\n",
       "<g class=\"displacy-arrow\">\n",
       "    <path class=\"displacy-arc\" id=\"arrow-8a98892bf0314cb3aec57b24a5d12e07-0-12\" stroke-width=\"2px\" d=\"M2170,439.5 C2170,352.0 2305.0,352.0 2305.0,439.5\" fill=\"none\" stroke=\"currentColor\"/>\n",
       "    <text dy=\"1.25em\" style=\"font-size: 0.8em; letter-spacing: 1px\">\n",
       "        <textPath xlink:href=\"#arrow-8a98892bf0314cb3aec57b24a5d12e07-0-12\" class=\"displacy-label\" startOffset=\"50%\" side=\"left\" fill=\"currentColor\" text-anchor=\"middle\">amod</textPath>\n",
       "    </text>\n",
       "    <path class=\"displacy-arrowhead\" d=\"M2170,441.5 L2162,429.5 2178,429.5\" fill=\"currentColor\"/>\n",
       "</g>\n",
       "\n",
       "<g class=\"displacy-arrow\">\n",
       "    <path class=\"displacy-arc\" id=\"arrow-8a98892bf0314cb3aec57b24a5d12e07-0-13\" stroke-width=\"2px\" d=\"M1820,439.5 C1820,177.0 2315.0,177.0 2315.0,439.5\" fill=\"none\" stroke=\"currentColor\"/>\n",
       "    <text dy=\"1.25em\" style=\"font-size: 0.8em; letter-spacing: 1px\">\n",
       "        <textPath xlink:href=\"#arrow-8a98892bf0314cb3aec57b24a5d12e07-0-13\" class=\"displacy-label\" startOffset=\"50%\" side=\"left\" fill=\"currentColor\" text-anchor=\"middle\">pobj</textPath>\n",
       "    </text>\n",
       "    <path class=\"displacy-arrowhead\" d=\"M2315.0,441.5 L2323.0,429.5 2307.0,429.5\" fill=\"currentColor\"/>\n",
       "</g>\n",
       "\n",
       "<g class=\"displacy-arrow\">\n",
       "    <path class=\"displacy-arc\" id=\"arrow-8a98892bf0314cb3aec57b24a5d12e07-0-14\" stroke-width=\"2px\" d=\"M2345,439.5 C2345,352.0 2480.0,352.0 2480.0,439.5\" fill=\"none\" stroke=\"currentColor\"/>\n",
       "    <text dy=\"1.25em\" style=\"font-size: 0.8em; letter-spacing: 1px\">\n",
       "        <textPath xlink:href=\"#arrow-8a98892bf0314cb3aec57b24a5d12e07-0-14\" class=\"displacy-label\" startOffset=\"50%\" side=\"left\" fill=\"currentColor\" text-anchor=\"middle\">prep</textPath>\n",
       "    </text>\n",
       "    <path class=\"displacy-arrowhead\" d=\"M2480.0,441.5 L2488.0,429.5 2472.0,429.5\" fill=\"currentColor\"/>\n",
       "</g>\n",
       "\n",
       "<g class=\"displacy-arrow\">\n",
       "    <path class=\"displacy-arc\" id=\"arrow-8a98892bf0314cb3aec57b24a5d12e07-0-15\" stroke-width=\"2px\" d=\"M2695,439.5 C2695,352.0 2830.0,352.0 2830.0,439.5\" fill=\"none\" stroke=\"currentColor\"/>\n",
       "    <text dy=\"1.25em\" style=\"font-size: 0.8em; letter-spacing: 1px\">\n",
       "        <textPath xlink:href=\"#arrow-8a98892bf0314cb3aec57b24a5d12e07-0-15\" class=\"displacy-label\" startOffset=\"50%\" side=\"left\" fill=\"currentColor\" text-anchor=\"middle\">poss</textPath>\n",
       "    </text>\n",
       "    <path class=\"displacy-arrowhead\" d=\"M2695,441.5 L2687,429.5 2703,429.5\" fill=\"currentColor\"/>\n",
       "</g>\n",
       "\n",
       "<g class=\"displacy-arrow\">\n",
       "    <path class=\"displacy-arc\" id=\"arrow-8a98892bf0314cb3aec57b24a5d12e07-0-16\" stroke-width=\"2px\" d=\"M2520,439.5 C2520,264.5 2835.0,264.5 2835.0,439.5\" fill=\"none\" stroke=\"currentColor\"/>\n",
       "    <text dy=\"1.25em\" style=\"font-size: 0.8em; letter-spacing: 1px\">\n",
       "        <textPath xlink:href=\"#arrow-8a98892bf0314cb3aec57b24a5d12e07-0-16\" class=\"displacy-label\" startOffset=\"50%\" side=\"left\" fill=\"currentColor\" text-anchor=\"middle\">pobj</textPath>\n",
       "    </text>\n",
       "    <path class=\"displacy-arrowhead\" d=\"M2835.0,441.5 L2843.0,429.5 2827.0,429.5\" fill=\"currentColor\"/>\n",
       "</g>\n",
       "\n",
       "<g class=\"displacy-arrow\">\n",
       "    <path class=\"displacy-arc\" id=\"arrow-8a98892bf0314cb3aec57b24a5d12e07-0-17\" stroke-width=\"2px\" d=\"M2870,439.5 C2870,352.0 3005.0,352.0 3005.0,439.5\" fill=\"none\" stroke=\"currentColor\"/>\n",
       "    <text dy=\"1.25em\" style=\"font-size: 0.8em; letter-spacing: 1px\">\n",
       "        <textPath xlink:href=\"#arrow-8a98892bf0314cb3aec57b24a5d12e07-0-17\" class=\"displacy-label\" startOffset=\"50%\" side=\"left\" fill=\"currentColor\" text-anchor=\"middle\">prep</textPath>\n",
       "    </text>\n",
       "    <path class=\"displacy-arrowhead\" d=\"M3005.0,441.5 L3013.0,429.5 2997.0,429.5\" fill=\"currentColor\"/>\n",
       "</g>\n",
       "\n",
       "<g class=\"displacy-arrow\">\n",
       "    <path class=\"displacy-arc\" id=\"arrow-8a98892bf0314cb3aec57b24a5d12e07-0-18\" stroke-width=\"2px\" d=\"M3045,439.5 C3045,352.0 3180.0,352.0 3180.0,439.5\" fill=\"none\" stroke=\"currentColor\"/>\n",
       "    <text dy=\"1.25em\" style=\"font-size: 0.8em; letter-spacing: 1px\">\n",
       "        <textPath xlink:href=\"#arrow-8a98892bf0314cb3aec57b24a5d12e07-0-18\" class=\"displacy-label\" startOffset=\"50%\" side=\"left\" fill=\"currentColor\" text-anchor=\"middle\">pobj</textPath>\n",
       "    </text>\n",
       "    <path class=\"displacy-arrowhead\" d=\"M3180.0,441.5 L3188.0,429.5 3172.0,429.5\" fill=\"currentColor\"/>\n",
       "</g>\n",
       "\n",
       "<g class=\"displacy-arrow\">\n",
       "    <path class=\"displacy-arc\" id=\"arrow-8a98892bf0314cb3aec57b24a5d12e07-0-19\" stroke-width=\"2px\" d=\"M3395,439.5 C3395,352.0 3530.0,352.0 3530.0,439.5\" fill=\"none\" stroke=\"currentColor\"/>\n",
       "    <text dy=\"1.25em\" style=\"font-size: 0.8em; letter-spacing: 1px\">\n",
       "        <textPath xlink:href=\"#arrow-8a98892bf0314cb3aec57b24a5d12e07-0-19\" class=\"displacy-label\" startOffset=\"50%\" side=\"left\" fill=\"currentColor\" text-anchor=\"middle\">prep</textPath>\n",
       "    </text>\n",
       "    <path class=\"displacy-arrowhead\" d=\"M3530.0,441.5 L3538.0,429.5 3522.0,429.5\" fill=\"currentColor\"/>\n",
       "</g>\n",
       "</svg></span>"
      ],
      "text/plain": [
       "<IPython.core.display.HTML object>"
      ]
     },
     "metadata": {},
     "output_type": "display_data"
    }
   ],
   "source": [
    "doc = nlp(g[2])\n",
    "displacy.render(doc)"
   ]
  },
  {
   "cell_type": "code",
   "execution_count": 52,
   "metadata": {},
   "outputs": [
    {
     "data": {
      "text/html": [
       "<div>\n",
       "<style scoped>\n",
       "    .dataframe tbody tr th:only-of-type {\n",
       "        vertical-align: middle;\n",
       "    }\n",
       "\n",
       "    .dataframe tbody tr th {\n",
       "        vertical-align: top;\n",
       "    }\n",
       "\n",
       "    .dataframe thead th {\n",
       "        text-align: right;\n",
       "    }\n",
       "</style>\n",
       "<table border=\"1\" class=\"dataframe\">\n",
       "  <thead>\n",
       "    <tr style=\"text-align: right;\">\n",
       "      <th></th>\n",
       "      <th>id</th>\n",
       "      <th>keyword</th>\n",
       "      <th>location</th>\n",
       "      <th>text</th>\n",
       "      <th>text_length</th>\n",
       "      <th>target</th>\n",
       "    </tr>\n",
       "  </thead>\n",
       "  <tbody>\n",
       "    <tr>\n",
       "      <th>5281</th>\n",
       "      <td>7547</td>\n",
       "      <td>outbreak</td>\n",
       "      <td>NaN</td>\n",
       "      <td>Families to sue over Legionnaires: More than 4...</td>\n",
       "      <td>136</td>\n",
       "      <td>1</td>\n",
       "    </tr>\n",
       "  </tbody>\n",
       "</table>\n",
       "</div>"
      ],
      "text/plain": [
       "        id   keyword location  \\\n",
       "5281  7547  outbreak      NaN   \n",
       "\n",
       "                                                   text  text_length  target  \n",
       "5281  Families to sue over Legionnaires: More than 4...          136       1  "
      ]
     },
     "execution_count": 52,
     "metadata": {},
     "output_type": "execute_result"
    }
   ],
   "source": [
    "nlp_df[nlp_df.text==str(g[2])] #positive"
   ]
  },
  {
   "cell_type": "code",
   "execution_count": 53,
   "metadata": {},
   "outputs": [
    {
     "data": {
      "text/html": [
       "<div>\n",
       "<style scoped>\n",
       "    .dataframe tbody tr th:only-of-type {\n",
       "        vertical-align: middle;\n",
       "    }\n",
       "\n",
       "    .dataframe tbody tr th {\n",
       "        vertical-align: top;\n",
       "    }\n",
       "\n",
       "    .dataframe thead th {\n",
       "        text-align: right;\n",
       "    }\n",
       "</style>\n",
       "<table border=\"1\" class=\"dataframe\">\n",
       "  <thead>\n",
       "    <tr style=\"text-align: right;\">\n",
       "      <th></th>\n",
       "      <th>id</th>\n",
       "      <th>keyword</th>\n",
       "      <th>location</th>\n",
       "      <th>text</th>\n",
       "      <th>text_length</th>\n",
       "      <th>target</th>\n",
       "    </tr>\n",
       "  </thead>\n",
       "  <tbody>\n",
       "    <tr>\n",
       "      <th>5284</th>\n",
       "      <td>7551</td>\n",
       "      <td>outbreak</td>\n",
       "      <td>New York City, NY</td>\n",
       "      <td>10th death confirmed in Legionnaires' outbreak...</td>\n",
       "      <td>97</td>\n",
       "      <td>1</td>\n",
       "    </tr>\n",
       "  </tbody>\n",
       "</table>\n",
       "</div>"
      ],
      "text/plain": [
       "        id   keyword           location  \\\n",
       "5284  7551  outbreak  New York City, NY   \n",
       "\n",
       "                                                   text  text_length  target  \n",
       "5284  10th death confirmed in Legionnaires' outbreak...           97       1  "
      ]
     },
     "execution_count": 53,
     "metadata": {},
     "output_type": "execute_result"
    }
   ],
   "source": [
    "nlp_df[nlp_df.text==str(g[3])]"
   ]
  },
  {
   "cell_type": "markdown",
   "metadata": {},
   "source": [
    "## keyword nouns"
   ]
  },
  {
   "cell_type": "code",
   "execution_count": 59,
   "metadata": {},
   "outputs": [],
   "source": [
    "token = doc[0]"
   ]
  },
  {
   "cell_type": "code",
   "execution_count": 86,
   "metadata": {},
   "outputs": [
    {
     "data": {
      "text/plain": [
       "'NOUN'"
      ]
     },
     "execution_count": 86,
     "metadata": {},
     "output_type": "execute_result"
    }
   ],
   "source": [
    "token.pos_"
   ]
  },
  {
   "cell_type": "code",
   "execution_count": 123,
   "metadata": {},
   "outputs": [],
   "source": [
    "pos_20 = pos_df.keyword.value_counts()[:30].index.tolist()\n",
    "pos_b20 = pos_df.keyword.value_counts()[-30:].index.tolist()\n",
    "neg_20 = neg_df.keyword.value_counts()[:30].index.tolist()\n",
    "neg_b20 = neg_df.keyword.value_counts()[-30:].index.tolist()"
   ]
  },
  {
   "cell_type": "code",
   "execution_count": 130,
   "metadata": {},
   "outputs": [
    {
     "data": {
      "text/html": [
       "<style  type=\"text/css\" >\n",
       "    #T_d89be700_cae5_11eb_8a18_309c235eee43row0_col0 {\n",
       "            background:  red;\n",
       "        }    #T_d89be700_cae5_11eb_8a18_309c235eee43row0_col1 {\n",
       "            background:  red;\n",
       "        }    #T_d89be700_cae5_11eb_8a18_309c235eee43row0_col2 {\n",
       "            background:  red;\n",
       "        }    #T_d89be700_cae5_11eb_8a18_309c235eee43row0_col3 {\n",
       "            background:  red;\n",
       "        }    #T_d89be700_cae5_11eb_8a18_309c235eee43row1_col2 {\n",
       "            background:  red;\n",
       "        }    #T_d89be700_cae5_11eb_8a18_309c235eee43row1_col3 {\n",
       "            background:  red;\n",
       "        }    #T_d89be700_cae5_11eb_8a18_309c235eee43row2_col0 {\n",
       "            background:  red;\n",
       "        }    #T_d89be700_cae5_11eb_8a18_309c235eee43row2_col1 {\n",
       "            background:  red;\n",
       "        }    #T_d89be700_cae5_11eb_8a18_309c235eee43row2_col2 {\n",
       "            background:  red;\n",
       "        }    #T_d89be700_cae5_11eb_8a18_309c235eee43row3_col1 {\n",
       "            background:  red;\n",
       "        }    #T_d89be700_cae5_11eb_8a18_309c235eee43row3_col2 {\n",
       "            background:  red;\n",
       "        }    #T_d89be700_cae5_11eb_8a18_309c235eee43row3_col3 {\n",
       "            background:  red;\n",
       "        }    #T_d89be700_cae5_11eb_8a18_309c235eee43row4_col0 {\n",
       "            background:  red;\n",
       "        }    #T_d89be700_cae5_11eb_8a18_309c235eee43row4_col1 {\n",
       "            background:  red;\n",
       "        }    #T_d89be700_cae5_11eb_8a18_309c235eee43row4_col3 {\n",
       "            background:  red;\n",
       "        }    #T_d89be700_cae5_11eb_8a18_309c235eee43row5_col0 {\n",
       "            background:  red;\n",
       "        }    #T_d89be700_cae5_11eb_8a18_309c235eee43row5_col1 {\n",
       "            background:  red;\n",
       "        }    #T_d89be700_cae5_11eb_8a18_309c235eee43row5_col2 {\n",
       "            background:  red;\n",
       "        }    #T_d89be700_cae5_11eb_8a18_309c235eee43row5_col3 {\n",
       "            background:  red;\n",
       "        }    #T_d89be700_cae5_11eb_8a18_309c235eee43row6_col0 {\n",
       "            background:  red;\n",
       "        }    #T_d89be700_cae5_11eb_8a18_309c235eee43row6_col3 {\n",
       "            background:  red;\n",
       "        }    #T_d89be700_cae5_11eb_8a18_309c235eee43row7_col0 {\n",
       "            background:  red;\n",
       "        }    #T_d89be700_cae5_11eb_8a18_309c235eee43row7_col2 {\n",
       "            background:  red;\n",
       "        }    #T_d89be700_cae5_11eb_8a18_309c235eee43row7_col3 {\n",
       "            background:  red;\n",
       "        }    #T_d89be700_cae5_11eb_8a18_309c235eee43row8_col0 {\n",
       "            background:  red;\n",
       "        }    #T_d89be700_cae5_11eb_8a18_309c235eee43row8_col3 {\n",
       "            background:  red;\n",
       "        }    #T_d89be700_cae5_11eb_8a18_309c235eee43row9_col1 {\n",
       "            background:  red;\n",
       "        }    #T_d89be700_cae5_11eb_8a18_309c235eee43row9_col2 {\n",
       "            background:  red;\n",
       "        }    #T_d89be700_cae5_11eb_8a18_309c235eee43row9_col3 {\n",
       "            background:  red;\n",
       "        }    #T_d89be700_cae5_11eb_8a18_309c235eee43row10_col0 {\n",
       "            background:  red;\n",
       "        }    #T_d89be700_cae5_11eb_8a18_309c235eee43row10_col3 {\n",
       "            background:  red;\n",
       "        }    #T_d89be700_cae5_11eb_8a18_309c235eee43row11_col0 {\n",
       "            background:  red;\n",
       "        }    #T_d89be700_cae5_11eb_8a18_309c235eee43row11_col1 {\n",
       "            background:  red;\n",
       "        }    #T_d89be700_cae5_11eb_8a18_309c235eee43row11_col3 {\n",
       "            background:  red;\n",
       "        }    #T_d89be700_cae5_11eb_8a18_309c235eee43row12_col0 {\n",
       "            background:  red;\n",
       "        }    #T_d89be700_cae5_11eb_8a18_309c235eee43row12_col1 {\n",
       "            background:  red;\n",
       "        }    #T_d89be700_cae5_11eb_8a18_309c235eee43row13_col0 {\n",
       "            background:  red;\n",
       "        }    #T_d89be700_cae5_11eb_8a18_309c235eee43row13_col3 {\n",
       "            background:  red;\n",
       "        }    #T_d89be700_cae5_11eb_8a18_309c235eee43row14_col0 {\n",
       "            background:  red;\n",
       "        }    #T_d89be700_cae5_11eb_8a18_309c235eee43row14_col2 {\n",
       "            background:  red;\n",
       "        }    #T_d89be700_cae5_11eb_8a18_309c235eee43row15_col3 {\n",
       "            background:  red;\n",
       "        }    #T_d89be700_cae5_11eb_8a18_309c235eee43row16_col0 {\n",
       "            background:  red;\n",
       "        }    #T_d89be700_cae5_11eb_8a18_309c235eee43row16_col2 {\n",
       "            background:  red;\n",
       "        }    #T_d89be700_cae5_11eb_8a18_309c235eee43row17_col0 {\n",
       "            background:  red;\n",
       "        }    #T_d89be700_cae5_11eb_8a18_309c235eee43row17_col3 {\n",
       "            background:  red;\n",
       "        }    #T_d89be700_cae5_11eb_8a18_309c235eee43row18_col0 {\n",
       "            background:  red;\n",
       "        }    #T_d89be700_cae5_11eb_8a18_309c235eee43row19_col0 {\n",
       "            background:  red;\n",
       "        }    #T_d89be700_cae5_11eb_8a18_309c235eee43row20_col1 {\n",
       "            background:  red;\n",
       "        }    #T_d89be700_cae5_11eb_8a18_309c235eee43row21_col0 {\n",
       "            background:  red;\n",
       "        }    #T_d89be700_cae5_11eb_8a18_309c235eee43row22_col0 {\n",
       "            background:  red;\n",
       "        }    #T_d89be700_cae5_11eb_8a18_309c235eee43row22_col1 {\n",
       "            background:  red;\n",
       "        }    #T_d89be700_cae5_11eb_8a18_309c235eee43row22_col3 {\n",
       "            background:  red;\n",
       "        }    #T_d89be700_cae5_11eb_8a18_309c235eee43row23_col0 {\n",
       "            background:  red;\n",
       "        }    #T_d89be700_cae5_11eb_8a18_309c235eee43row24_col0 {\n",
       "            background:  red;\n",
       "        }    #T_d89be700_cae5_11eb_8a18_309c235eee43row24_col2 {\n",
       "            background:  red;\n",
       "        }    #T_d89be700_cae5_11eb_8a18_309c235eee43row24_col3 {\n",
       "            background:  red;\n",
       "        }    #T_d89be700_cae5_11eb_8a18_309c235eee43row25_col0 {\n",
       "            background:  red;\n",
       "        }    #T_d89be700_cae5_11eb_8a18_309c235eee43row25_col1 {\n",
       "            background:  red;\n",
       "        }    #T_d89be700_cae5_11eb_8a18_309c235eee43row25_col2 {\n",
       "            background:  red;\n",
       "        }    #T_d89be700_cae5_11eb_8a18_309c235eee43row25_col3 {\n",
       "            background:  red;\n",
       "        }    #T_d89be700_cae5_11eb_8a18_309c235eee43row26_col1 {\n",
       "            background:  red;\n",
       "        }    #T_d89be700_cae5_11eb_8a18_309c235eee43row26_col3 {\n",
       "            background:  red;\n",
       "        }    #T_d89be700_cae5_11eb_8a18_309c235eee43row27_col1 {\n",
       "            background:  red;\n",
       "        }    #T_d89be700_cae5_11eb_8a18_309c235eee43row27_col3 {\n",
       "            background:  red;\n",
       "        }    #T_d89be700_cae5_11eb_8a18_309c235eee43row28_col0 {\n",
       "            background:  red;\n",
       "        }    #T_d89be700_cae5_11eb_8a18_309c235eee43row29_col0 {\n",
       "            background:  red;\n",
       "        }    #T_d89be700_cae5_11eb_8a18_309c235eee43row29_col3 {\n",
       "            background:  red;\n",
       "        }</style><table id=\"T_d89be700_cae5_11eb_8a18_309c235eee43\" ><thead>    <tr>        <th class=\"blank level0\" ></th>        <th class=\"col_heading level0 col0\" >pos_20</th>        <th class=\"col_heading level0 col1\" >pos_b20</th>        <th class=\"col_heading level0 col2\" >neg_20</th>        <th class=\"col_heading level0 col3\" >neg_b20</th>    </tr></thead><tbody>\n",
       "                <tr>\n",
       "                        <th id=\"T_d89be700_cae5_11eb_8a18_309c235eee43level0_row0\" class=\"row_heading level0 row0\" >0</th>\n",
       "                        <td id=\"T_d89be700_cae5_11eb_8a18_309c235eee43row0_col0\" class=\"data row0 col0\" >NOUN</td>\n",
       "                        <td id=\"T_d89be700_cae5_11eb_8a18_309c235eee43row0_col1\" class=\"data row0 col1\" >NOUN</td>\n",
       "                        <td id=\"T_d89be700_cae5_11eb_8a18_309c235eee43row0_col2\" class=\"data row0 col2\" >NOUN</td>\n",
       "                        <td id=\"T_d89be700_cae5_11eb_8a18_309c235eee43row0_col3\" class=\"data row0 col3\" >NOUN</td>\n",
       "            </tr>\n",
       "            <tr>\n",
       "                        <th id=\"T_d89be700_cae5_11eb_8a18_309c235eee43level0_row1\" class=\"row_heading level0 row1\" >1</th>\n",
       "                        <td id=\"T_d89be700_cae5_11eb_8a18_309c235eee43row1_col0\" class=\"data row1 col0\" >VERB</td>\n",
       "                        <td id=\"T_d89be700_cae5_11eb_8a18_309c235eee43row1_col1\" class=\"data row1 col1\" >VERB</td>\n",
       "                        <td id=\"T_d89be700_cae5_11eb_8a18_309c235eee43row1_col2\" class=\"data row1 col2\" >NOUN</td>\n",
       "                        <td id=\"T_d89be700_cae5_11eb_8a18_309c235eee43row1_col3\" class=\"data row1 col3\" >NOUN</td>\n",
       "            </tr>\n",
       "            <tr>\n",
       "                        <th id=\"T_d89be700_cae5_11eb_8a18_309c235eee43level0_row2\" class=\"row_heading level0 row2\" >2</th>\n",
       "                        <td id=\"T_d89be700_cae5_11eb_8a18_309c235eee43row2_col0\" class=\"data row2 col0\" >NOUN</td>\n",
       "                        <td id=\"T_d89be700_cae5_11eb_8a18_309c235eee43row2_col1\" class=\"data row2 col1\" >NOUN</td>\n",
       "                        <td id=\"T_d89be700_cae5_11eb_8a18_309c235eee43row2_col2\" class=\"data row2 col2\" >NOUN</td>\n",
       "                        <td id=\"T_d89be700_cae5_11eb_8a18_309c235eee43row2_col3\" class=\"data row2 col3\" >VERB</td>\n",
       "            </tr>\n",
       "            <tr>\n",
       "                        <th id=\"T_d89be700_cae5_11eb_8a18_309c235eee43level0_row3\" class=\"row_heading level0 row3\" >3</th>\n",
       "                        <td id=\"T_d89be700_cae5_11eb_8a18_309c235eee43row3_col0\" class=\"data row3 col0\" >X</td>\n",
       "                        <td id=\"T_d89be700_cae5_11eb_8a18_309c235eee43row3_col1\" class=\"data row3 col1\" >NOUN</td>\n",
       "                        <td id=\"T_d89be700_cae5_11eb_8a18_309c235eee43row3_col2\" class=\"data row3 col2\" >NOUN</td>\n",
       "                        <td id=\"T_d89be700_cae5_11eb_8a18_309c235eee43row3_col3\" class=\"data row3 col3\" >NOUN</td>\n",
       "            </tr>\n",
       "            <tr>\n",
       "                        <th id=\"T_d89be700_cae5_11eb_8a18_309c235eee43level0_row4\" class=\"row_heading level0 row4\" >4</th>\n",
       "                        <td id=\"T_d89be700_cae5_11eb_8a18_309c235eee43row4_col0\" class=\"data row4 col0\" >NOUN</td>\n",
       "                        <td id=\"T_d89be700_cae5_11eb_8a18_309c235eee43row4_col1\" class=\"data row4 col1\" >NOUN</td>\n",
       "                        <td id=\"T_d89be700_cae5_11eb_8a18_309c235eee43row4_col2\" class=\"data row4 col2\" >VERB</td>\n",
       "                        <td id=\"T_d89be700_cae5_11eb_8a18_309c235eee43row4_col3\" class=\"data row4 col3\" >NOUN</td>\n",
       "            </tr>\n",
       "            <tr>\n",
       "                        <th id=\"T_d89be700_cae5_11eb_8a18_309c235eee43level0_row5\" class=\"row_heading level0 row5\" >5</th>\n",
       "                        <td id=\"T_d89be700_cae5_11eb_8a18_309c235eee43row5_col0\" class=\"data row5 col0\" >NOUN</td>\n",
       "                        <td id=\"T_d89be700_cae5_11eb_8a18_309c235eee43row5_col1\" class=\"data row5 col1\" >NOUN</td>\n",
       "                        <td id=\"T_d89be700_cae5_11eb_8a18_309c235eee43row5_col2\" class=\"data row5 col2\" >NOUN</td>\n",
       "                        <td id=\"T_d89be700_cae5_11eb_8a18_309c235eee43row5_col3\" class=\"data row5 col3\" >NOUN</td>\n",
       "            </tr>\n",
       "            <tr>\n",
       "                        <th id=\"T_d89be700_cae5_11eb_8a18_309c235eee43level0_row6\" class=\"row_heading level0 row6\" >6</th>\n",
       "                        <td id=\"T_d89be700_cae5_11eb_8a18_309c235eee43row6_col0\" class=\"data row6 col0\" >NOUN</td>\n",
       "                        <td id=\"T_d89be700_cae5_11eb_8a18_309c235eee43row6_col1\" class=\"data row6 col1\" >VERB</td>\n",
       "                        <td id=\"T_d89be700_cae5_11eb_8a18_309c235eee43row6_col2\" class=\"data row6 col2\" >ADJ</td>\n",
       "                        <td id=\"T_d89be700_cae5_11eb_8a18_309c235eee43row6_col3\" class=\"data row6 col3\" >NOUN</td>\n",
       "            </tr>\n",
       "            <tr>\n",
       "                        <th id=\"T_d89be700_cae5_11eb_8a18_309c235eee43level0_row7\" class=\"row_heading level0 row7\" >7</th>\n",
       "                        <td id=\"T_d89be700_cae5_11eb_8a18_309c235eee43row7_col0\" class=\"data row7 col0\" >NOUN</td>\n",
       "                        <td id=\"T_d89be700_cae5_11eb_8a18_309c235eee43row7_col1\" class=\"data row7 col1\" >VERB</td>\n",
       "                        <td id=\"T_d89be700_cae5_11eb_8a18_309c235eee43row7_col2\" class=\"data row7 col2\" >NOUN</td>\n",
       "                        <td id=\"T_d89be700_cae5_11eb_8a18_309c235eee43row7_col3\" class=\"data row7 col3\" >NOUN</td>\n",
       "            </tr>\n",
       "            <tr>\n",
       "                        <th id=\"T_d89be700_cae5_11eb_8a18_309c235eee43level0_row8\" class=\"row_heading level0 row8\" >8</th>\n",
       "                        <td id=\"T_d89be700_cae5_11eb_8a18_309c235eee43row8_col0\" class=\"data row8 col0\" >NOUN</td>\n",
       "                        <td id=\"T_d89be700_cae5_11eb_8a18_309c235eee43row8_col1\" class=\"data row8 col1\" >VERB</td>\n",
       "                        <td id=\"T_d89be700_cae5_11eb_8a18_309c235eee43row8_col2\" class=\"data row8 col2\" >VERB</td>\n",
       "                        <td id=\"T_d89be700_cae5_11eb_8a18_309c235eee43row8_col3\" class=\"data row8 col3\" >NOUN</td>\n",
       "            </tr>\n",
       "            <tr>\n",
       "                        <th id=\"T_d89be700_cae5_11eb_8a18_309c235eee43level0_row9\" class=\"row_heading level0 row9\" >9</th>\n",
       "                        <td id=\"T_d89be700_cae5_11eb_8a18_309c235eee43row9_col0\" class=\"data row9 col0\" >VERB</td>\n",
       "                        <td id=\"T_d89be700_cae5_11eb_8a18_309c235eee43row9_col1\" class=\"data row9 col1\" >NOUN</td>\n",
       "                        <td id=\"T_d89be700_cae5_11eb_8a18_309c235eee43row9_col2\" class=\"data row9 col2\" >NOUN</td>\n",
       "                        <td id=\"T_d89be700_cae5_11eb_8a18_309c235eee43row9_col3\" class=\"data row9 col3\" >NOUN</td>\n",
       "            </tr>\n",
       "            <tr>\n",
       "                        <th id=\"T_d89be700_cae5_11eb_8a18_309c235eee43level0_row10\" class=\"row_heading level0 row10\" >10</th>\n",
       "                        <td id=\"T_d89be700_cae5_11eb_8a18_309c235eee43row10_col0\" class=\"data row10 col0\" >NOUN</td>\n",
       "                        <td id=\"T_d89be700_cae5_11eb_8a18_309c235eee43row10_col1\" class=\"data row10 col1\" >VERB</td>\n",
       "                        <td id=\"T_d89be700_cae5_11eb_8a18_309c235eee43row10_col2\" class=\"data row10 col2\" >VERB</td>\n",
       "                        <td id=\"T_d89be700_cae5_11eb_8a18_309c235eee43row10_col3\" class=\"data row10 col3\" >NOUN</td>\n",
       "            </tr>\n",
       "            <tr>\n",
       "                        <th id=\"T_d89be700_cae5_11eb_8a18_309c235eee43level0_row11\" class=\"row_heading level0 row11\" >11</th>\n",
       "                        <td id=\"T_d89be700_cae5_11eb_8a18_309c235eee43row11_col0\" class=\"data row11 col0\" >NOUN</td>\n",
       "                        <td id=\"T_d89be700_cae5_11eb_8a18_309c235eee43row11_col1\" class=\"data row11 col1\" >NOUN</td>\n",
       "                        <td id=\"T_d89be700_cae5_11eb_8a18_309c235eee43row11_col2\" class=\"data row11 col2\" >ADJ</td>\n",
       "                        <td id=\"T_d89be700_cae5_11eb_8a18_309c235eee43row11_col3\" class=\"data row11 col3\" >NOUN</td>\n",
       "            </tr>\n",
       "            <tr>\n",
       "                        <th id=\"T_d89be700_cae5_11eb_8a18_309c235eee43level0_row12\" class=\"row_heading level0 row12\" >12</th>\n",
       "                        <td id=\"T_d89be700_cae5_11eb_8a18_309c235eee43row12_col0\" class=\"data row12 col0\" >NOUN</td>\n",
       "                        <td id=\"T_d89be700_cae5_11eb_8a18_309c235eee43row12_col1\" class=\"data row12 col1\" >NOUN</td>\n",
       "                        <td id=\"T_d89be700_cae5_11eb_8a18_309c235eee43row12_col2\" class=\"data row12 col2\" >VERB</td>\n",
       "                        <td id=\"T_d89be700_cae5_11eb_8a18_309c235eee43row12_col3\" class=\"data row12 col3\" >VERB</td>\n",
       "            </tr>\n",
       "            <tr>\n",
       "                        <th id=\"T_d89be700_cae5_11eb_8a18_309c235eee43level0_row13\" class=\"row_heading level0 row13\" >13</th>\n",
       "                        <td id=\"T_d89be700_cae5_11eb_8a18_309c235eee43row13_col0\" class=\"data row13 col0\" >NOUN</td>\n",
       "                        <td id=\"T_d89be700_cae5_11eb_8a18_309c235eee43row13_col1\" class=\"data row13 col1\" >ADJ</td>\n",
       "                        <td id=\"T_d89be700_cae5_11eb_8a18_309c235eee43row13_col2\" class=\"data row13 col2\" >VERB</td>\n",
       "                        <td id=\"T_d89be700_cae5_11eb_8a18_309c235eee43row13_col3\" class=\"data row13 col3\" >NOUN</td>\n",
       "            </tr>\n",
       "            <tr>\n",
       "                        <th id=\"T_d89be700_cae5_11eb_8a18_309c235eee43level0_row14\" class=\"row_heading level0 row14\" >14</th>\n",
       "                        <td id=\"T_d89be700_cae5_11eb_8a18_309c235eee43row14_col0\" class=\"data row14 col0\" >NOUN</td>\n",
       "                        <td id=\"T_d89be700_cae5_11eb_8a18_309c235eee43row14_col1\" class=\"data row14 col1\" >VERB</td>\n",
       "                        <td id=\"T_d89be700_cae5_11eb_8a18_309c235eee43row14_col2\" class=\"data row14 col2\" >NOUN</td>\n",
       "                        <td id=\"T_d89be700_cae5_11eb_8a18_309c235eee43row14_col3\" class=\"data row14 col3\" >VERB</td>\n",
       "            </tr>\n",
       "            <tr>\n",
       "                        <th id=\"T_d89be700_cae5_11eb_8a18_309c235eee43level0_row15\" class=\"row_heading level0 row15\" >15</th>\n",
       "                        <td id=\"T_d89be700_cae5_11eb_8a18_309c235eee43row15_col0\" class=\"data row15 col0\" >VERB</td>\n",
       "                        <td id=\"T_d89be700_cae5_11eb_8a18_309c235eee43row15_col1\" class=\"data row15 col1\" >VERB</td>\n",
       "                        <td id=\"T_d89be700_cae5_11eb_8a18_309c235eee43row15_col2\" class=\"data row15 col2\" >ADJ</td>\n",
       "                        <td id=\"T_d89be700_cae5_11eb_8a18_309c235eee43row15_col3\" class=\"data row15 col3\" >NOUN</td>\n",
       "            </tr>\n",
       "            <tr>\n",
       "                        <th id=\"T_d89be700_cae5_11eb_8a18_309c235eee43level0_row16\" class=\"row_heading level0 row16\" >16</th>\n",
       "                        <td id=\"T_d89be700_cae5_11eb_8a18_309c235eee43row16_col0\" class=\"data row16 col0\" >NOUN</td>\n",
       "                        <td id=\"T_d89be700_cae5_11eb_8a18_309c235eee43row16_col1\" class=\"data row16 col1\" >ADJ</td>\n",
       "                        <td id=\"T_d89be700_cae5_11eb_8a18_309c235eee43row16_col2\" class=\"data row16 col2\" >NOUN</td>\n",
       "                        <td id=\"T_d89be700_cae5_11eb_8a18_309c235eee43row16_col3\" class=\"data row16 col3\" >VERB</td>\n",
       "            </tr>\n",
       "            <tr>\n",
       "                        <th id=\"T_d89be700_cae5_11eb_8a18_309c235eee43level0_row17\" class=\"row_heading level0 row17\" >17</th>\n",
       "                        <td id=\"T_d89be700_cae5_11eb_8a18_309c235eee43row17_col0\" class=\"data row17 col0\" >NOUN</td>\n",
       "                        <td id=\"T_d89be700_cae5_11eb_8a18_309c235eee43row17_col1\" class=\"data row17 col1\" >ADJ</td>\n",
       "                        <td id=\"T_d89be700_cae5_11eb_8a18_309c235eee43row17_col2\" class=\"data row17 col2\" >VERB</td>\n",
       "                        <td id=\"T_d89be700_cae5_11eb_8a18_309c235eee43row17_col3\" class=\"data row17 col3\" >NOUN</td>\n",
       "            </tr>\n",
       "            <tr>\n",
       "                        <th id=\"T_d89be700_cae5_11eb_8a18_309c235eee43level0_row18\" class=\"row_heading level0 row18\" >18</th>\n",
       "                        <td id=\"T_d89be700_cae5_11eb_8a18_309c235eee43row18_col0\" class=\"data row18 col0\" >NOUN</td>\n",
       "                        <td id=\"T_d89be700_cae5_11eb_8a18_309c235eee43row18_col1\" class=\"data row18 col1\" >VERB</td>\n",
       "                        <td id=\"T_d89be700_cae5_11eb_8a18_309c235eee43row18_col2\" class=\"data row18 col2\" >VERB</td>\n",
       "                        <td id=\"T_d89be700_cae5_11eb_8a18_309c235eee43row18_col3\" class=\"data row18 col3\" >VERB</td>\n",
       "            </tr>\n",
       "            <tr>\n",
       "                        <th id=\"T_d89be700_cae5_11eb_8a18_309c235eee43level0_row19\" class=\"row_heading level0 row19\" >19</th>\n",
       "                        <td id=\"T_d89be700_cae5_11eb_8a18_309c235eee43row19_col0\" class=\"data row19 col0\" >NOUN</td>\n",
       "                        <td id=\"T_d89be700_cae5_11eb_8a18_309c235eee43row19_col1\" class=\"data row19 col1\" >VERB</td>\n",
       "                        <td id=\"T_d89be700_cae5_11eb_8a18_309c235eee43row19_col2\" class=\"data row19 col2\" >VERB</td>\n",
       "                        <td id=\"T_d89be700_cae5_11eb_8a18_309c235eee43row19_col3\" class=\"data row19 col3\" >X</td>\n",
       "            </tr>\n",
       "            <tr>\n",
       "                        <th id=\"T_d89be700_cae5_11eb_8a18_309c235eee43level0_row20\" class=\"row_heading level0 row20\" >20</th>\n",
       "                        <td id=\"T_d89be700_cae5_11eb_8a18_309c235eee43row20_col0\" class=\"data row20 col0\" >VERB</td>\n",
       "                        <td id=\"T_d89be700_cae5_11eb_8a18_309c235eee43row20_col1\" class=\"data row20 col1\" >NOUN</td>\n",
       "                        <td id=\"T_d89be700_cae5_11eb_8a18_309c235eee43row20_col2\" class=\"data row20 col2\" >VERB</td>\n",
       "                        <td id=\"T_d89be700_cae5_11eb_8a18_309c235eee43row20_col3\" class=\"data row20 col3\" >VERB</td>\n",
       "            </tr>\n",
       "            <tr>\n",
       "                        <th id=\"T_d89be700_cae5_11eb_8a18_309c235eee43level0_row21\" class=\"row_heading level0 row21\" >21</th>\n",
       "                        <td id=\"T_d89be700_cae5_11eb_8a18_309c235eee43row21_col0\" class=\"data row21 col0\" >NOUN</td>\n",
       "                        <td id=\"T_d89be700_cae5_11eb_8a18_309c235eee43row21_col1\" class=\"data row21 col1\" >VERB</td>\n",
       "                        <td id=\"T_d89be700_cae5_11eb_8a18_309c235eee43row21_col2\" class=\"data row21 col2\" >VERB</td>\n",
       "                        <td id=\"T_d89be700_cae5_11eb_8a18_309c235eee43row21_col3\" class=\"data row21 col3\" >INTJ</td>\n",
       "            </tr>\n",
       "            <tr>\n",
       "                        <th id=\"T_d89be700_cae5_11eb_8a18_309c235eee43level0_row22\" class=\"row_heading level0 row22\" >22</th>\n",
       "                        <td id=\"T_d89be700_cae5_11eb_8a18_309c235eee43row22_col0\" class=\"data row22 col0\" >NOUN</td>\n",
       "                        <td id=\"T_d89be700_cae5_11eb_8a18_309c235eee43row22_col1\" class=\"data row22 col1\" >NOUN</td>\n",
       "                        <td id=\"T_d89be700_cae5_11eb_8a18_309c235eee43row22_col2\" class=\"data row22 col2\" >VERB</td>\n",
       "                        <td id=\"T_d89be700_cae5_11eb_8a18_309c235eee43row22_col3\" class=\"data row22 col3\" >NOUN</td>\n",
       "            </tr>\n",
       "            <tr>\n",
       "                        <th id=\"T_d89be700_cae5_11eb_8a18_309c235eee43level0_row23\" class=\"row_heading level0 row23\" >23</th>\n",
       "                        <td id=\"T_d89be700_cae5_11eb_8a18_309c235eee43row23_col0\" class=\"data row23 col0\" >NOUN</td>\n",
       "                        <td id=\"T_d89be700_cae5_11eb_8a18_309c235eee43row23_col1\" class=\"data row23 col1\" >VERB</td>\n",
       "                        <td id=\"T_d89be700_cae5_11eb_8a18_309c235eee43row23_col2\" class=\"data row23 col2\" >VERB</td>\n",
       "                        <td id=\"T_d89be700_cae5_11eb_8a18_309c235eee43row23_col3\" class=\"data row23 col3\" >X</td>\n",
       "            </tr>\n",
       "            <tr>\n",
       "                        <th id=\"T_d89be700_cae5_11eb_8a18_309c235eee43level0_row24\" class=\"row_heading level0 row24\" >24</th>\n",
       "                        <td id=\"T_d89be700_cae5_11eb_8a18_309c235eee43row24_col0\" class=\"data row24 col0\" >NOUN</td>\n",
       "                        <td id=\"T_d89be700_cae5_11eb_8a18_309c235eee43row24_col1\" class=\"data row24 col1\" >VERB</td>\n",
       "                        <td id=\"T_d89be700_cae5_11eb_8a18_309c235eee43row24_col2\" class=\"data row24 col2\" >NOUN</td>\n",
       "                        <td id=\"T_d89be700_cae5_11eb_8a18_309c235eee43row24_col3\" class=\"data row24 col3\" >NOUN</td>\n",
       "            </tr>\n",
       "            <tr>\n",
       "                        <th id=\"T_d89be700_cae5_11eb_8a18_309c235eee43level0_row25\" class=\"row_heading level0 row25\" >25</th>\n",
       "                        <td id=\"T_d89be700_cae5_11eb_8a18_309c235eee43row25_col0\" class=\"data row25 col0\" >NOUN</td>\n",
       "                        <td id=\"T_d89be700_cae5_11eb_8a18_309c235eee43row25_col1\" class=\"data row25 col1\" >NOUN</td>\n",
       "                        <td id=\"T_d89be700_cae5_11eb_8a18_309c235eee43row25_col2\" class=\"data row25 col2\" >NOUN</td>\n",
       "                        <td id=\"T_d89be700_cae5_11eb_8a18_309c235eee43row25_col3\" class=\"data row25 col3\" >NOUN</td>\n",
       "            </tr>\n",
       "            <tr>\n",
       "                        <th id=\"T_d89be700_cae5_11eb_8a18_309c235eee43level0_row26\" class=\"row_heading level0 row26\" >26</th>\n",
       "                        <td id=\"T_d89be700_cae5_11eb_8a18_309c235eee43row26_col0\" class=\"data row26 col0\" >VERB</td>\n",
       "                        <td id=\"T_d89be700_cae5_11eb_8a18_309c235eee43row26_col1\" class=\"data row26 col1\" >NOUN</td>\n",
       "                        <td id=\"T_d89be700_cae5_11eb_8a18_309c235eee43row26_col2\" class=\"data row26 col2\" >VERB</td>\n",
       "                        <td id=\"T_d89be700_cae5_11eb_8a18_309c235eee43row26_col3\" class=\"data row26 col3\" >NOUN</td>\n",
       "            </tr>\n",
       "            <tr>\n",
       "                        <th id=\"T_d89be700_cae5_11eb_8a18_309c235eee43level0_row27\" class=\"row_heading level0 row27\" >27</th>\n",
       "                        <td id=\"T_d89be700_cae5_11eb_8a18_309c235eee43row27_col0\" class=\"data row27 col0\" >VERB</td>\n",
       "                        <td id=\"T_d89be700_cae5_11eb_8a18_309c235eee43row27_col1\" class=\"data row27 col1\" >NOUN</td>\n",
       "                        <td id=\"T_d89be700_cae5_11eb_8a18_309c235eee43row27_col2\" class=\"data row27 col2\" >INTJ</td>\n",
       "                        <td id=\"T_d89be700_cae5_11eb_8a18_309c235eee43row27_col3\" class=\"data row27 col3\" >NOUN</td>\n",
       "            </tr>\n",
       "            <tr>\n",
       "                        <th id=\"T_d89be700_cae5_11eb_8a18_309c235eee43level0_row28\" class=\"row_heading level0 row28\" >28</th>\n",
       "                        <td id=\"T_d89be700_cae5_11eb_8a18_309c235eee43row28_col0\" class=\"data row28 col0\" >NOUN</td>\n",
       "                        <td id=\"T_d89be700_cae5_11eb_8a18_309c235eee43row28_col1\" class=\"data row28 col1\" >VERB</td>\n",
       "                        <td id=\"T_d89be700_cae5_11eb_8a18_309c235eee43row28_col2\" class=\"data row28 col2\" >VERB</td>\n",
       "                        <td id=\"T_d89be700_cae5_11eb_8a18_309c235eee43row28_col3\" class=\"data row28 col3\" >VERB</td>\n",
       "            </tr>\n",
       "            <tr>\n",
       "                        <th id=\"T_d89be700_cae5_11eb_8a18_309c235eee43level0_row29\" class=\"row_heading level0 row29\" >29</th>\n",
       "                        <td id=\"T_d89be700_cae5_11eb_8a18_309c235eee43row29_col0\" class=\"data row29 col0\" >NOUN</td>\n",
       "                        <td id=\"T_d89be700_cae5_11eb_8a18_309c235eee43row29_col1\" class=\"data row29 col1\" >INTJ</td>\n",
       "                        <td id=\"T_d89be700_cae5_11eb_8a18_309c235eee43row29_col2\" class=\"data row29 col2\" >VERB</td>\n",
       "                        <td id=\"T_d89be700_cae5_11eb_8a18_309c235eee43row29_col3\" class=\"data row29 col3\" >NOUN</td>\n",
       "            </tr>\n",
       "    </tbody></table>"
      ],
      "text/plain": [
       "<pandas.io.formats.style.Styler at 0x14736676f08>"
      ]
     },
     "execution_count": 130,
     "metadata": {},
     "output_type": "execute_result"
    }
   ],
   "source": [
    "tdict = {'pos_20':[],'pos_b20':[], 'neg_20':[], 'neg_b20':[]}\n",
    "for x in range(30):\n",
    "    tdict['pos_20'].append(nlp(pos_20[x])[0].pos_)\n",
    "    tdict['pos_b20'].append(nlp(pos_b20[x])[0].pos_)\n",
    "    tdict['neg_20'].append(nlp(neg_20[x])[0].pos_)\n",
    "    tdict['neg_b20'].append(nlp(neg_b20[x])[0].pos_)\n",
    "    \n",
    "a = pd.DataFrame(tdict)\n",
    "a.style.apply(lambda x: [\"background: red\" if v == 'NOUN' else \"\" for v in x], axis = 1)"
   ]
  },
  {
   "cell_type": "markdown",
   "metadata": {},
   "source": [
    "- positive target keyword tends to be a noun"
   ]
  }
 ],
 "metadata": {
  "kernelspec": {
   "display_name": "Python 3",
   "language": "python",
   "name": "python3"
  },
  "language_info": {
   "codemirror_mode": {
    "name": "ipython",
    "version": 3
   },
   "file_extension": ".py",
   "mimetype": "text/x-python",
   "name": "python",
   "nbconvert_exporter": "python",
   "pygments_lexer": "ipython3",
   "version": "3.7.6"
  }
 },
 "nbformat": 4,
 "nbformat_minor": 4
}
