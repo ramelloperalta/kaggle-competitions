{
 "cells": [
  {
   "cell_type": "markdown",
   "id": "50f962e1",
   "metadata": {},
   "source": [
    "## initial testing of the textcat model"
   ]
  },
  {
   "cell_type": "code",
   "execution_count": 3,
   "id": "b848376d",
   "metadata": {},
   "outputs": [],
   "source": [
    "import spacy\n",
    "import pandas as pd"
   ]
  },
  {
   "cell_type": "code",
   "execution_count": 8,
   "id": "3c22135d",
   "metadata": {},
   "outputs": [],
   "source": [
    "test_df = pd.read_csv('nlp-getting-started/test.csv')\n",
    "train_df = pd.read_csv('nlp-getting-started/train.csv')"
   ]
  },
  {
   "cell_type": "code",
   "execution_count": 14,
   "id": "5dcaf6f5",
   "metadata": {},
   "outputs": [
    {
     "data": {
      "text/html": [
       "<div>\n",
       "<style scoped>\n",
       "    .dataframe tbody tr th:only-of-type {\n",
       "        vertical-align: middle;\n",
       "    }\n",
       "\n",
       "    .dataframe tbody tr th {\n",
       "        vertical-align: top;\n",
       "    }\n",
       "\n",
       "    .dataframe thead th {\n",
       "        text-align: right;\n",
       "    }\n",
       "</style>\n",
       "<table border=\"1\" class=\"dataframe\">\n",
       "  <thead>\n",
       "    <tr style=\"text-align: right;\">\n",
       "      <th></th>\n",
       "      <th>id</th>\n",
       "      <th>keyword</th>\n",
       "      <th>location</th>\n",
       "      <th>text</th>\n",
       "      <th>target</th>\n",
       "    </tr>\n",
       "  </thead>\n",
       "  <tbody>\n",
       "    <tr>\n",
       "      <th>4000</th>\n",
       "      <td>5683</td>\n",
       "      <td>floods</td>\n",
       "      <td>New Jersey</td>\n",
       "      <td>@casewrites when it rains in NJ it flash flood...</td>\n",
       "      <td>1</td>\n",
       "    </tr>\n",
       "  </tbody>\n",
       "</table>\n",
       "</div>"
      ],
      "text/plain": [
       "        id keyword    location  \\\n",
       "4000  5683  floods  New Jersey   \n",
       "\n",
       "                                                   text  target  \n",
       "4000  @casewrites when it rains in NJ it flash flood...       1  "
      ]
     },
     "execution_count": 14,
     "metadata": {},
     "output_type": "execute_result"
    }
   ],
   "source": [
    "train_df[4000:4001]"
   ]
  },
  {
   "cell_type": "code",
   "execution_count": 6,
   "id": "a815ae10",
   "metadata": {},
   "outputs": [],
   "source": [
    "nlp = spacy.load('output/model-best')"
   ]
  },
  {
   "cell_type": "code",
   "execution_count": 15,
   "id": "de283796",
   "metadata": {},
   "outputs": [
    {
     "name": "stdout",
     "output_type": "stream",
     "text": [
      "{'positive': 0.9863640666007996, 'negative': 0.013635989278554916}\n"
     ]
    }
   ],
   "source": [
    "doc = nlp(train_df.text[4000])\n",
    "print(doc.cats)"
   ]
  },
  {
   "cell_type": "code",
   "execution_count": 18,
   "id": "3b49a83d",
   "metadata": {},
   "outputs": [
    {
     "data": {
      "text/html": [
       "<div>\n",
       "<style scoped>\n",
       "    .dataframe tbody tr th:only-of-type {\n",
       "        vertical-align: middle;\n",
       "    }\n",
       "\n",
       "    .dataframe tbody tr th {\n",
       "        vertical-align: top;\n",
       "    }\n",
       "\n",
       "    .dataframe thead th {\n",
       "        text-align: right;\n",
       "    }\n",
       "</style>\n",
       "<table border=\"1\" class=\"dataframe\">\n",
       "  <thead>\n",
       "    <tr style=\"text-align: right;\">\n",
       "      <th></th>\n",
       "      <th>id</th>\n",
       "      <th>keyword</th>\n",
       "      <th>location</th>\n",
       "      <th>text</th>\n",
       "      <th>target</th>\n",
       "    </tr>\n",
       "  </thead>\n",
       "  <tbody>\n",
       "    <tr>\n",
       "      <th>5000</th>\n",
       "      <td>7132</td>\n",
       "      <td>military</td>\n",
       "      <td>NY</td>\n",
       "      <td>13 reasons why we love women in the military  ...</td>\n",
       "      <td>0</td>\n",
       "    </tr>\n",
       "  </tbody>\n",
       "</table>\n",
       "</div>"
      ],
      "text/plain": [
       "        id   keyword location  \\\n",
       "5000  7132  military       NY   \n",
       "\n",
       "                                                   text  target  \n",
       "5000  13 reasons why we love women in the military  ...       0  "
      ]
     },
     "execution_count": 18,
     "metadata": {},
     "output_type": "execute_result"
    }
   ],
   "source": [
    "train_df[5000:5001]"
   ]
  },
  {
   "cell_type": "code",
   "execution_count": 19,
   "id": "4bc56b94",
   "metadata": {},
   "outputs": [
    {
     "name": "stdout",
     "output_type": "stream",
     "text": [
      "{'positive': 2.3832970327930525e-05, 'negative': 0.9999761581420898}\n"
     ]
    }
   ],
   "source": [
    "doc = nlp(train_df.text[5000])\n",
    "print(doc.cats)"
   ]
  },
  {
   "cell_type": "code",
   "execution_count": 23,
   "id": "d02a8e3b",
   "metadata": {},
   "outputs": [
    {
     "name": "stdout",
     "output_type": "stream",
     "text": [
      "Dust Storm 'en route' from Alice Springs to Uluru http://t.co/4ilt6FXU45 1\n",
      "{'positive': 0.9466574192047119, 'negative': 0.05334252119064331}\n",
      "I keep sneezing either someone placed a southern dust storm in my house or someone talkin smack 0\n",
      "{'positive': 0.9506902098655701, 'negative': 0.04930977523326874}\n",
      "|| So.... I just watched the trailed for The Dust Storm and I think part of me just died.... Colin is so perfect my goodness. 0\n",
      "{'positive': 0.00046140680206008255, 'negative': 0.9995386600494385}\n",
      "Dust devil maintenance fee - buy up la rotary storm guard: UVoPWZ 0\n",
      "{'positive': 0.00023149322078097612, 'negative': 0.9997685551643372}\n",
      "@RetiredFilth people in sydney woke up to the whole sky being red after a dust storm..like unreal. 1\n",
      "{'positive': 0.9999014139175415, 'negative': 9.852003859123215e-05}\n",
      "There's a big storm brewing dark clouds thunder and rain carrying thick dust. This could be interesting. 1\n",
      "{'positive': 0.9983437061309814, 'negative': 0.001656268839724362}\n",
      "I-90 Vantage: Backups eastbound with low visibility due to a dust storm about 4 miles east of the bridge. 1\n",
      "{'positive': 0.9998918771743774, 'negative': 0.00010813748667715117}\n",
      "Good way to end the day!!! Geyser plus dust storm! http://t.co/l5VakLR59M 1\n",
      "{'positive': 0.9890289306640625, 'negative': 0.01097105722874403}\n",
      "dust storm in riyadh ???? 1\n",
      "{'positive': 0.9999759197235107, 'negative': 2.402694553893525e-05}\n",
      "New Mad Max Screenshots Show Off a Lovely Dust Storm Combat Magnum Opus http://t.co/45CmaQf8Ns 0\n",
      "{'positive': 6.708961336698849e-06, 'negative': 0.9999933242797852}\n"
     ]
    }
   ],
   "source": [
    "start = 3000\n",
    "\n",
    "for i in range(10):\n",
    "    doc = nlp(train_df.text[i+start])\n",
    "    print(train_df.text[i+start], train_df.target[i+start])\n",
    "    print(doc.cats)"
   ]
  },
  {
   "cell_type": "code",
   "execution_count": 24,
   "id": "b74e3f06",
   "metadata": {
    "scrolled": false
   },
   "outputs": [
    {
     "name": "stdout",
     "output_type": "stream",
     "text": [
      "Just happened a terrible car crash\n",
      "{'positive': 0.9824315905570984, 'negative': 0.017568370327353477}\n",
      "Heard about #earthquake is different cities, stay safe everyone.\n",
      "{'positive': 0.002765827579423785, 'negative': 0.9972341656684875}\n",
      "there is a forest fire at spot pond, geese are fleeing across the street, I cannot save them all\n",
      "{'positive': 0.9398853182792664, 'negative': 0.06011468544602394}\n",
      "Apocalypse lighting. #Spokane #wildfires\n",
      "{'positive': 0.9966425895690918, 'negative': 0.003357475157827139}\n",
      "Typhoon Soudelor kills 28 in China and Taiwan\n",
      "{'positive': 0.9999793767929077, 'negative': 2.065946682705544e-05}\n",
      "We're shaking...It's an earthquake\n",
      "{'positive': 0.00019591831369325519, 'negative': 0.9998040795326233}\n",
      "They'd probably still show more life than Arsenal did yesterday, eh? EH?\n",
      "{'positive': 0.9240908026695251, 'negative': 0.07590916752815247}\n",
      "Hey! How are you?\n",
      "{'positive': 0.3972872197628021, 'negative': 0.6027127504348755}\n",
      "What a nice hat?\n",
      "{'positive': 0.993431031703949, 'negative': 0.006568980403244495}\n",
      "Fuck off!\n",
      "{'positive': 0.8661311268806458, 'negative': 0.13386890292167664}\n"
     ]
    }
   ],
   "source": [
    "start = 0\n",
    "for i in range(10):\n",
    "    doc = nlp(test_df.text[i+start])\n",
    "    print(test_df.text[i+start])\n",
    "    print(doc.cats)"
   ]
  },
  {
   "cell_type": "markdown",
   "id": "e52808a2",
   "metadata": {},
   "source": [
    "- rather poor performance, the model cannot detect sarcasm and has trouble properly classifying for texts which are much smaller than average length"
   ]
  }
 ],
 "metadata": {
  "kernelspec": {
   "display_name": "Python 3",
   "language": "python",
   "name": "python3"
  },
  "language_info": {
   "codemirror_mode": {
    "name": "ipython",
    "version": 3
   },
   "file_extension": ".py",
   "mimetype": "text/x-python",
   "name": "python",
   "nbconvert_exporter": "python",
   "pygments_lexer": "ipython3",
   "version": "3.8.8"
  }
 },
 "nbformat": 4,
 "nbformat_minor": 5
}
