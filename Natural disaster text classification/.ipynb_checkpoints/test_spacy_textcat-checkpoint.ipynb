{
 "cells": [
  {
   "cell_type": "markdown",
   "id": "50f962e1",
   "metadata": {},
   "source": [
    "## initial testing of the textcat model"
   ]
  },
  {
   "cell_type": "code",
   "execution_count": 76,
   "id": "b848376d",
   "metadata": {},
   "outputs": [],
   "source": [
    "import spacy\n",
    "import pandas as pd"
   ]
  },
  {
   "cell_type": "code",
   "execution_count": 77,
   "id": "3c22135d",
   "metadata": {},
   "outputs": [],
   "source": [
    "test_df = pd.read_csv('nlp-getting-started/test.csv')\n",
    "train_df = pd.read_csv('nlp-getting-started/nlp_cleaned.csv')"
   ]
  },
  {
   "cell_type": "markdown",
   "id": "abab1801",
   "metadata": {},
   "source": [
    "## Model best"
   ]
  },
  {
   "cell_type": "code",
   "execution_count": 78,
   "id": "a815ae10",
   "metadata": {},
   "outputs": [],
   "source": [
    "nlp = spacy.load('output_old/model-best')"
   ]
  },
  {
   "cell_type": "code",
   "execution_count": 79,
   "id": "de283796",
   "metadata": {},
   "outputs": [
    {
     "name": "stdout",
     "output_type": "stream",
     "text": [
      "{'positive': 0.008157090283930302, 'negative': 0.9918429255485535}\n"
     ]
    }
   ],
   "source": [
    "doc = nlp(train_df.text[1000])\n",
    "print(doc.cats)"
   ]
  },
  {
   "cell_type": "code",
   "execution_count": 80,
   "id": "3b49a83d",
   "metadata": {},
   "outputs": [
    {
     "data": {
      "text/html": [
       "<div>\n",
       "<style scoped>\n",
       "    .dataframe tbody tr th:only-of-type {\n",
       "        vertical-align: middle;\n",
       "    }\n",
       "\n",
       "    .dataframe tbody tr th {\n",
       "        vertical-align: top;\n",
       "    }\n",
       "\n",
       "    .dataframe thead th {\n",
       "        text-align: right;\n",
       "    }\n",
       "</style>\n",
       "<table border=\"1\" class=\"dataframe\">\n",
       "  <thead>\n",
       "    <tr style=\"text-align: right;\">\n",
       "      <th></th>\n",
       "      <th>Unnamed: 0</th>\n",
       "      <th>id</th>\n",
       "      <th>keyword</th>\n",
       "      <th>location</th>\n",
       "      <th>text</th>\n",
       "      <th>text_length</th>\n",
       "      <th>target</th>\n",
       "    </tr>\n",
       "  </thead>\n",
       "  <tbody>\n",
       "    <tr>\n",
       "      <th>5000</th>\n",
       "      <td>5399</td>\n",
       "      <td>7702</td>\n",
       "      <td>panicking</td>\n",
       "      <td>?</td>\n",
       "      <td>I hear the mumbling i hear the cackling i got ...</td>\n",
       "      <td>71</td>\n",
       "      <td>0</td>\n",
       "    </tr>\n",
       "  </tbody>\n",
       "</table>\n",
       "</div>"
      ],
      "text/plain": [
       "      Unnamed: 0    id    keyword location  \\\n",
       "5000        5399  7702  panicking        ?   \n",
       "\n",
       "                                                   text  text_length  target  \n",
       "5000  I hear the mumbling i hear the cackling i got ...           71       0  "
      ]
     },
     "execution_count": 80,
     "metadata": {},
     "output_type": "execute_result"
    }
   ],
   "source": [
    "train_df[5000:5001]"
   ]
  },
  {
   "cell_type": "code",
   "execution_count": 81,
   "id": "4bc56b94",
   "metadata": {},
   "outputs": [
    {
     "name": "stdout",
     "output_type": "stream",
     "text": [
      "{'positive': 0.00013650491018779576, 'negative': 0.9998635053634644}\n"
     ]
    }
   ],
   "source": [
    "doc = nlp(train_df.text[5000])\n",
    "print(doc.cats)"
   ]
  },
  {
   "cell_type": "code",
   "execution_count": 82,
   "id": "d02a8e3b",
   "metadata": {},
   "outputs": [
    {
     "name": "stdout",
     "output_type": "stream",
     "text": [
      "When your body's like 'go to fuck to sleep Sami' and your mind's like 'make an emergency plan for every natural disaster GO' 1\n",
      "{'positive': 0.0010133364703506231, 'negative': 0.9989866614341736}\n",
      "Do you have a plan? Emergency Preparedness for #Families of\n",
      "Children with Special Needs    #autism #specialneeds 0\n",
      "{'positive': 0.0001226781023433432, 'negative': 0.9998773336410522}\n",
      "Senators calling for emergency housing: Boxer Feinstein back plan to move #homeless vets to VA campus  1\n",
      "{'positive': 0.9841065406799316, 'negative': 0.015893394127488136}\n",
      "Severe thunderstorm warning remains for #Cochrane. @cityofcalgary has enacted municipal emergency plan after today's storm. #abstorm 1\n",
      "{'positive': 0.9897721409797668, 'negative': 0.010227814316749573}\n",
      "Can't fix stupid. MT @CBCCalgary Don't drive through flooded underpasses warns city as it enacts Municipal Emergency Plan. #yyc #abstorm 1\n",
      "{'positive': 0.0005876627983525395, 'negative': 0.9994122982025146}\n",
      "Do you have an emergency drinking water plan? Download guide in English Spanish French Arabic or Vietnamese.  0\n",
      "{'positive': 0.00020149424381088465, 'negative': 0.9997984766960144}\n",
      "A big issue left undone is HOW to get home if adverse weather hits. @GoTriangle has no real emergency plan in place  1\n",
      "{'positive': 0.006870408542454243, 'negative': 0.993129551410675}\n",
      "City of Calgary activates municipal emergency plan as more thunderstorms approach  1\n",
      "{'positive': 0.11203563213348389, 'negative': 0.8879643678665161}\n",
      "The Municipal Emergency Plan is now in effect. Stay safe everyone! #abstorm #yyc  1\n",
      "{'positive': 0.003223961219191551, 'negative': 0.9967760443687439}\n",
      "Storm concludes City of Calgary's Municipal Emergency Plan deactivated  1\n",
      "{'positive': 0.9900643229484558, 'negative': 0.009935744106769562}\n"
     ]
    }
   ],
   "source": [
    "start = 3000\n",
    "\n",
    "for i in range(10):\n",
    "    doc = nlp(train_df.text[i+start])\n",
    "    print(train_df.text[i+start], train_df.target[i+start])\n",
    "    print(doc.cats)"
   ]
  },
  {
   "cell_type": "markdown",
   "id": "1f159a97",
   "metadata": {},
   "source": [
    "## Model last"
   ]
  },
  {
   "cell_type": "code",
   "execution_count": 83,
   "id": "19eafb67",
   "metadata": {},
   "outputs": [],
   "source": [
    "nlp = spacy.load('output_old/model-last')"
   ]
  },
  {
   "cell_type": "code",
   "execution_count": 84,
   "id": "176a04fb",
   "metadata": {},
   "outputs": [
    {
     "name": "stdout",
     "output_type": "stream",
     "text": [
      "When your body's like 'go to fuck to sleep Sami' and your mind's like 'make an emergency plan for every natural disaster GO' 1\n",
      "{'positive': 1.6782722013886087e-05, 'negative': 0.9999831914901733}\n",
      "Do you have a plan? Emergency Preparedness for #Families of\n",
      "Children with Special Needs    #autism #specialneeds 0\n",
      "{'positive': 1.7707136104605503e-11, 'negative': 1.0}\n",
      "Senators calling for emergency housing: Boxer Feinstein back plan to move #homeless vets to VA campus  1\n",
      "{'positive': 0.7633636593818665, 'negative': 0.23663629591464996}\n",
      "Severe thunderstorm warning remains for #Cochrane. @cityofcalgary has enacted municipal emergency plan after today's storm. #abstorm 1\n",
      "{'positive': 0.9999886751174927, 'negative': 1.1336082934576552e-05}\n",
      "Can't fix stupid. MT @CBCCalgary Don't drive through flooded underpasses warns city as it enacts Municipal Emergency Plan. #yyc #abstorm 1\n",
      "{'positive': 0.0033532329834997654, 'negative': 0.9966467022895813}\n",
      "Do you have an emergency drinking water plan? Download guide in English Spanish French Arabic or Vietnamese.  0\n",
      "{'positive': 2.949165036625345e-07, 'negative': 0.9999997615814209}\n",
      "A big issue left undone is HOW to get home if adverse weather hits. @GoTriangle has no real emergency plan in place  1\n",
      "{'positive': 0.9931992888450623, 'negative': 0.0068006934598088264}\n",
      "City of Calgary activates municipal emergency plan as more thunderstorms approach  1\n",
      "{'positive': 0.9999932050704956, 'negative': 6.774669145670487e-06}\n",
      "The Municipal Emergency Plan is now in effect. Stay safe everyone! #abstorm #yyc  1\n",
      "{'positive': 0.8860273361206055, 'negative': 0.1139727309346199}\n",
      "Storm concludes City of Calgary's Municipal Emergency Plan deactivated  1\n",
      "{'positive': 0.9999908208847046, 'negative': 9.139168469118886e-06}\n"
     ]
    }
   ],
   "source": [
    "start = 3000\n",
    "\n",
    "for i in range(10):\n",
    "    doc = nlp(train_df.text[i+start])\n",
    "    print(train_df.text[i+start], train_df.target[i+start])\n",
    "    print(doc.cats)"
   ]
  },
  {
   "cell_type": "code",
   "execution_count": 85,
   "id": "26a241d9",
   "metadata": {},
   "outputs": [
    {
     "name": "stdout",
     "output_type": "stream",
     "text": [
      "{'positive': 0.9999959468841553, 'negative': 4.098691988474457e-06}\n"
     ]
    }
   ],
   "source": [
    "doc = nlp('There is a big hurricane and a lot of people are hurt')\n",
    "print(doc.cats)"
   ]
  },
  {
   "cell_type": "code",
   "execution_count": 86,
   "id": "750c07bc",
   "metadata": {},
   "outputs": [
    {
     "name": "stdout",
     "output_type": "stream",
     "text": [
      "{'positive': 2.0204057094019845e-08, 'negative': 1.0}\n"
     ]
    }
   ],
   "source": [
    "doc = nlp('It is a lovely day outside. What should I do today?')\n",
    "print(doc.cats)"
   ]
  },
  {
   "cell_type": "markdown",
   "id": "cbc62c4c",
   "metadata": {},
   "source": [
    "- the model cannot detect sarcasm and has trouble properly classifying for texts which are much smaller than average length\n",
    "- model also has trouble distinguishing when the text is very short\n",
    "- next: train model on more samples"
   ]
  }
 ],
 "metadata": {
  "kernelspec": {
   "display_name": "Python 3",
   "language": "python",
   "name": "python3"
  },
  "language_info": {
   "codemirror_mode": {
    "name": "ipython",
    "version": 3
   },
   "file_extension": ".py",
   "mimetype": "text/x-python",
   "name": "python",
   "nbconvert_exporter": "python",
   "pygments_lexer": "ipython3",
   "version": "3.8.8"
  }
 },
 "nbformat": 4,
 "nbformat_minor": 5
}
